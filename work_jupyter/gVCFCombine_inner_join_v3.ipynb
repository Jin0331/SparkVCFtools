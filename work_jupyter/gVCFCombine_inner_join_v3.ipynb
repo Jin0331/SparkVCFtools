{
 "cells": [
  {
   "cell_type": "markdown",
   "metadata": {},
   "source": [
    "spark.catalog.clearCache()\n",
    "spark.stop()"
   ]
  },
  {
   "cell_type": "code",
   "execution_count": 1,
   "metadata": {},
   "outputs": [],
   "source": [
    "import findspark\n",
    "findspark.init()\n",
    "\n",
    "# Spark function\n",
    "from pyspark.sql.functions import pandas_udf, udf\n",
    "from pyspark.sql import SparkSession\n",
    "from pyspark.sql.types import IntegerType, StringType\n",
    "import pyspark.sql.functions as F\n",
    "from pyspark.sql.functions import when\n",
    "from pyspark import Row\n",
    "from pyspark.sql.window import Window\n",
    "from pyspark import StorageLevel\n",
    "\n",
    "# Python function\n",
    "import re\n",
    "import subprocess\n",
    "import numpy as np\n",
    "import pandas\n",
    "import pyarrow\n",
    "\n",
    "# Start for Spark Session\n",
    "spark = SparkSession.builder.master(\"spark://master:7077\")\\\n",
    "                        .appName(\"gVCF_combine\")\\\n",
    "                        .config(\"spark.driver.memory\", \"8G\")\\\n",
    "                        .config(\"spark.driver.maxResultSize\", \"8G\")\\\n",
    "                        .config(\"spark.executor.memory\", \"24G\")\\\n",
    "                        .config(\"spark.executor.core\", 3)\\\n",
    "                        .config(\"spark.sql.execution.arrow.enabled\", \"true\")\\\n",
    "                        .config(\"spark.sql.execution.arrow.fallback.enabled\", \"true\")\\\n",
    "                        .config(\"spark.network.timeout\", 10000000)\\\n",
    "                        .config(\"spark.sql.shuffle.partitions\", 40)\\\n",
    "                        .getOrCreate()"
   ]
  },
  {
   "cell_type": "code",
   "execution_count": 2,
   "metadata": {},
   "outputs": [],
   "source": [
    "def hadoop_list(length, hdfs):\n",
    "    args = \"hdfs dfs -ls \"+ hdfs +\" | awk '{print $8}'\"\n",
    "    proc = subprocess.Popen(args, stdout=subprocess.PIPE, stderr=subprocess.PIPE, shell=True)\n",
    "    s_output, s_err = proc.communicate()\n",
    "    all_dart_dirs = s_output.split()\n",
    "    \n",
    "    return all_dart_dirs[:length]\n",
    "\n",
    "def preVCF(hdfs, flag, spark):\n",
    "    vcf = spark.sparkContext.textFile(hdfs)\n",
    "    #header_contig = vcf.filter(lambda x : re.match(\"^#\", x))\n",
    "    col_name = vcf.filter(lambda x : x.startswith(\"#CHROM\")).first().split(\"\\t\")\n",
    "    vcf_data = vcf.filter(lambda x : re.match(\"[^#][^#]\", x))\\\n",
    "                       .map(lambda x : x.split(\"\\t\"))\\\n",
    "                       .toDF(col_name)\\\n",
    "                       .withColumn(\"POS\", F.col(\"POS\").cast(IntegerType()))\n",
    "    \n",
    "    if flag == 1:\n",
    "        for index in range(len(vcf_data.columns) - 1):\n",
    "            compared_arr = [\"#CHROM\", \"POS\", \"REF\"]\n",
    "            if vcf_data.columns[index] in compared_arr:\n",
    "                continue\n",
    "            vcf_data = vcf_data.withColumnRenamed(vcf_data.columns[index], vcf_data.columns[index] + \"_temp\") \n",
    "    \n",
    "    return vcf_data\n",
    "\n",
    "def chunks(lst, n):\n",
    "    for index in range(0, len(lst), n):\n",
    "        yield lst[index:index + n]\n",
    "        \n",
    "def addIndex(POS, size):\n",
    "    if POS == 1:\n",
    "        return POS\n",
    "    else :\n",
    "        return int(POS / size + 1) \n",
    "addIndex_udf = udf(addIndex, returnType=IntegerType())\n",
    "\n",
    "# for POS index\n",
    "def sampling_func(data, ran):\n",
    "    N = len(data)\n",
    "    sample = data.take(range(0, N, ran))\n",
    "    return sample   "
   ]
  },
  {
   "cell_type": "code",
   "execution_count": 3,
   "metadata": {},
   "outputs": [
    {
     "data": {
      "text/plain": [
       "81337377"
      ]
     },
     "execution_count": 3,
     "metadata": {},
     "output_type": "execute_result"
    }
   ],
   "source": [
    "hdfs = \"hdfs://master:9000\"\n",
    "hdfs_list = hadoop_list(2, \"/raw_data/gvcf\")\n",
    "info_window = Window.partitionBy(\"#CHROM\").orderBy(\"POS\")\n",
    "vcf_list = list()\n",
    "\n",
    "for index in range(len(hdfs_list)):\n",
    "    if index == 0:\n",
    "        join_vcf = preVCF(hdfs + hdfs_list[index].decode(\"UTF-8\"), 0, spark).cache()\n",
    "        inner_pos = join_vcf.select(F.col(\"#CHROM\"), F.col(\"POS\"), F.col(\"REF\"))\n",
    "    else:\n",
    "        vcf_list.append(preVCF(hdfs + hdfs_list[index].decode(\"UTF-8\"), 1, spark).cache())\n",
    "        inner_pos_right = vcf_list[index - 1].select(F.col(\"#CHROM\"), F.col(\"POS\"), F.col(\"REF\"))\n",
    "        # for column null value\n",
    "        join_vcf = join_vcf.join(vcf_list[index - 1], [\"#CHROM\", \"POS\", \"REF\"], \"full\")\\\n",
    "            .withColumn(\"ID\", when(F.col(\"ID\").isNull(), F.col(\"ID_temp\")).otherwise(F.col(\"ID\")))\\\n",
    "            .withColumn(\"ALT\",when(F.col(\"ALT\").isNull(), F.col(\"ALT_temp\")).otherwise(F.col(\"ALT\")))\\\n",
    "            .withColumn(\"FORMAT\", when(F.col(\"FORMAT\").isNull(), F.col(\"FORMAT_temp\")).otherwise(F.col(\"FORMAT\")))\\\n",
    "            .withColumn(\"QUAL\", F.lit(\".\")).withColumn(\"FILTER\", F.lit(\".\"))\\\n",
    "            .withColumn(\"INFO\", when(F.col(\"INFO\").startswith(\"END\") == False, F.col(\"INFO\"))\\\n",
    "                        .when(F.col(\"INFO_temp\").startswith(\"END\") == False, F.col(\"INFO_temp\")))\\\n",
    "            .drop(\"INFO_temp\", \"ID_temp\", \"ALT_temp\", \"FORMAT_temp\", \"QUAL_temp\", \"FILTER_temp\")\n",
    "        \n",
    "        # for index\n",
    "        inner_pos = inner_pos.join(inner_pos_right, [\"#CHROM\", \"POS\", \"REF\"], \"inner\")\n",
    "    \n",
    "join_vcf = join_vcf.withColumn(\"INFO\", when(F.col(\"INFO\").isNull(), F.concat(F.lit(\"END=\"), F.lead(\"POS\", 1).over(info_window) - 1))\\\n",
    "                              .otherwise(F.col(\"INFO\")))\n",
    "join_vcf = join_vcf.orderBy(F.col(\"#CHROM\"), F.col(\"POS\")).cache()\n",
    "join_vcf.count()"
   ]
  },
  {
   "cell_type": "code",
   "execution_count": 4,
   "metadata": {},
   "outputs": [
    {
     "name": "stderr",
     "output_type": "stream",
     "text": [
      "/usr/local/spark/python/pyspark/sql/session.py:714: UserWarning: createDataFrame attempted Arrow optimization because 'spark.sql.execution.arrow.enabled' is set to true; however, failed by the reason below:\n",
      "  An error occurred while calling z:org.apache.spark.sql.api.python.PythonSQLUtils.readArrowStreamFromFile.\n",
      ": java.lang.IllegalArgumentException\n",
      "\tat java.nio.ByteBuffer.allocate(ByteBuffer.java:334)\n",
      "\tat org.apache.arrow.vector.ipc.message.MessageSerializer.readMessage(MessageSerializer.java:543)\n",
      "\tat org.apache.spark.sql.execution.arrow.ArrowConverters$$anon$3.readNextBatch(ArrowConverters.scala:243)\n",
      "\tat org.apache.spark.sql.execution.arrow.ArrowConverters$$anon$3.<init>(ArrowConverters.scala:229)\n",
      "\tat org.apache.spark.sql.execution.arrow.ArrowConverters$.getBatchesFromStream(ArrowConverters.scala:228)\n",
      "\tat org.apache.spark.sql.execution.arrow.ArrowConverters$$anonfun$readArrowStreamFromFile$2.apply(ArrowConverters.scala:216)\n",
      "\tat org.apache.spark.sql.execution.arrow.ArrowConverters$$anonfun$readArrowStreamFromFile$2.apply(ArrowConverters.scala:214)\n",
      "\tat org.apache.spark.util.Utils$.tryWithResource(Utils.scala:2543)\n",
      "\tat org.apache.spark.sql.execution.arrow.ArrowConverters$.readArrowStreamFromFile(ArrowConverters.scala:214)\n",
      "\tat org.apache.spark.sql.api.python.PythonSQLUtils$.readArrowStreamFromFile(PythonSQLUtils.scala:46)\n",
      "\tat org.apache.spark.sql.api.python.PythonSQLUtils.readArrowStreamFromFile(PythonSQLUtils.scala)\n",
      "\tat sun.reflect.NativeMethodAccessorImpl.invoke0(Native Method)\n",
      "\tat sun.reflect.NativeMethodAccessorImpl.invoke(NativeMethodAccessorImpl.java:62)\n",
      "\tat sun.reflect.DelegatingMethodAccessorImpl.invoke(DelegatingMethodAccessorImpl.java:43)\n",
      "\tat java.lang.reflect.Method.invoke(Method.java:498)\n",
      "\tat py4j.reflection.MethodInvoker.invoke(MethodInvoker.java:244)\n",
      "\tat py4j.reflection.ReflectionEngine.invoke(ReflectionEngine.java:357)\n",
      "\tat py4j.Gateway.invoke(Gateway.java:282)\n",
      "\tat py4j.commands.AbstractCommand.invokeMethod(AbstractCommand.java:132)\n",
      "\tat py4j.commands.CallCommand.execute(CallCommand.java:79)\n",
      "\tat py4j.GatewayConnection.run(GatewayConnection.java:238)\n",
      "\tat java.lang.Thread.run(Thread.java:748)\n",
      "\n",
      "Attempting non-optimization as 'spark.sql.execution.arrow.fallback.enabled' is set to true.\n",
      "  warnings.warn(msg)\n"
     ]
    },
    {
     "data": {
      "text/plain": [
       "132236"
      ]
     },
     "execution_count": 4,
     "metadata": {},
     "output_type": "execute_result"
    }
   ],
   "source": [
    "inner_pos = spark.createDataFrame(inner_pos.drop(F.col(\"REF\")).orderBy(F.col(\"#CHROM\"), F.col(\"POS\"))\\\n",
    "            .toPandas().groupby(\"#CHROM\", group_keys=False).apply(sampling_func, ran = 13).sort_index())\\\n",
    "            .withColumnRenamed(\"#CHROM\", \"chr_temp\")\\\n",
    "            .withColumnRenamed(\"POS\", \"pos_temp\")\n",
    "inner_pos = inner_pos.orderBy(F.col(\"#CHROM\"), F.col(\"POS\")).cache()\n",
    "inner_pos.count()"
   ]
  },
  {
   "cell_type": "code",
   "execution_count": 5,
   "metadata": {},
   "outputs": [],
   "source": [
    "for index in range(len(vcf_list)):\n",
    "    vcf_list[index].unpersist()"
   ]
  },
  {
   "cell_type": "code",
   "execution_count": 6,
   "metadata": {},
   "outputs": [
    {
     "data": {
      "text/plain": [
       "81337377"
      ]
     },
     "execution_count": 6,
     "metadata": {},
     "output_type": "execute_result"
    }
   ],
   "source": [
    "pos_index = Window.partitionBy(\"#CHROM\").orderBy(\"POS\").rangeBetween(Window.unboundedPreceding, Window.currentRow)\n",
    "ex = [join_vcf[\"#CHROM\"] == inner_pos[\"chr_temp\"], join_vcf[\"POS\"] == inner_pos[\"pos_temp\"]]\n",
    "temp = join_vcf.select(F.col(\"#CHROM\"), F.col(\"POS\")).join(inner_pos, ex, \"full\")\\\n",
    "               .drop(F.col(\"chr_temp\"))\\\n",
    "               .withColumn(\"POS_INDEX\", when(F.col(\"pos_temp\").isNull(), F.last(F.col(\"pos_temp\"), ignorenulls=True).over(pos_index))\\\n",
    "                           .otherwise(F.col(\"pos_temp\")))\\\n",
    "               .drop(F.col(\"pos_temp\")).orderBy(F.col(\"#CHROM\"), F.col(\"POS\")).cache()\n",
    "temp.count()"
   ]
  },
  {
   "cell_type": "code",
   "execution_count": 7,
   "metadata": {},
   "outputs": [
    {
     "data": {
      "text/plain": [
       "DataFrame[#CHROM: string, POS: int, REF: string, ID: string, ALT: string, QUAL: string, FILTER: string, INFO: string, FORMAT: string, ND02798: string, ND02809: string]"
      ]
     },
     "execution_count": 7,
     "metadata": {},
     "output_type": "execute_result"
    }
   ],
   "source": [
    "join_vcf_index = join_vcf.join(temp, [\"#CHROM\", \"POS\"], \"inner\").orderBy(F.col(\"#CHROM\"), F.col(\"POS\")).dropDuplicates()\\\n",
    "                         .repartition(F.col(\"#CHROM\"), F.col(\"POS_INDEX\")).cache()\n",
    "join_vcf_index.count()\n",
    "join_vcf.unpersist()"
   ]
  },
  {
   "cell_type": "code",
   "execution_count": 8,
   "metadata": {},
   "outputs": [],
   "source": [
    "sample_w = Window.partitionBy(F.col(\"#CHROM\"), F.col(\"POS_INDEX\")).orderBy(F.col(\"POS\")).rangeBetween(Window.unboundedPreceding, Window.currentRow)   \n",
    "for sample_name in join_vcf_index.columns[9:-1]:     \n",
    "    join_vcf_index = join_vcf_index.withColumn(sample_name, when(F.col(sample_name).isNull(), F.last(sample_name, ignorenulls=True).over(sample_w))\\\n",
    "                                                   .otherwise(F.col(sample_name)))\n",
    "join_vcf_index.drop(F.col(\"POS_INDEX\"))\\\n",
    "            .write.mode('overwrite').parquet(\"/raw_data/output/gvcf_2\")"
   ]
  }
 ],
 "metadata": {
  "kernelspec": {
   "display_name": "Python 3",
   "language": "python",
   "name": "python3"
  },
  "language_info": {
   "codemirror_mode": {
    "name": "ipython",
    "version": 3
   },
   "file_extension": ".py",
   "mimetype": "text/x-python",
   "name": "python",
   "nbconvert_exporter": "python",
   "pygments_lexer": "ipython3",
   "version": "3.7.6"
  }
 },
 "nbformat": 4,
 "nbformat_minor": 2
}
