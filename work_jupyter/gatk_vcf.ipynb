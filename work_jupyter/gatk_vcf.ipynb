{
 "cells": [
  {
   "cell_type": "code",
   "execution_count": 2,
   "metadata": {},
   "outputs": [
    {
     "name": "stdout",
     "output_type": "stream",
     "text": [
      "appname, folder name : gatk\n"
     ]
    }
   ],
   "source": [
    "import findspark\n",
    "findspark.init()\n",
    "\n",
    "# Spark function\n",
    "from pyspark import Row, StorageLevel\n",
    "from pyspark.sql import SparkSession, DataFrame\n",
    "from pyspark.sql.functions import pandas_udf, udf, explode, array, when\n",
    "from pyspark.sql.types import IntegerType, StringType, ArrayType,BooleanType\n",
    "from pyspark.sql.window import Window\n",
    "import pyspark.sql.functions as F\n",
    "\n",
    "# Python function\n",
    "import re\n",
    "import subprocess\n",
    "import numpy as np\n",
    "import pandas\n",
    "import pyarrow\n",
    "from functools import reduce \n",
    "import copy\n",
    "import time\n",
    "\n",
    "appname = input(\"appname, folder name : \")\n",
    "folder_name = copy.deepcopy(appname) \n",
    "\n",
    "# Start for Spark Session\n",
    "spark = SparkSession.builder.master(\"spark://master:7077\")\\\n",
    "                        .appName(appname)\\\n",
    "                        .config(\"spark.driver.memory\", \"8G\")\\\n",
    "                        .config(\"spark.driver.maxResultSize\", \"5G\")\\\n",
    "                        .config(\"spark.executor.memory\", \"25G\")\\\n",
    "                        .config(\"spark.memory.fraction\", 0.2)\\\n",
    "                        .config(\"spark.sql.shuffle.partitions\", 100)\\\n",
    "                        .config(\"spark.eventLog.enabled\", \"true\")\\\n",
    "                        .config(\"spark.cleaner.periodicGC.interval\", \"15min\")\\\n",
    "                        .getOrCreate()"
   ]
  },
  {
   "cell_type": "code",
   "execution_count": 1,
   "metadata": {},
   "outputs": [],
   "source": [
    "def preVCF(hdfs, spark):\n",
    "    vcf = spark.sparkContext.textFile(hdfs)\n",
    "    #header_contig = vcf.filter(lambda x : re.match(\"^#\", x))\n",
    "    col_name = vcf.filter(lambda x : x.startswith(\"#CHROM\")).first().split(\"\\t\")\n",
    "    vcf_data = vcf.filter(lambda x : re.match(\"[^#][^#]\", x))\\\n",
    "                       .map(lambda x : x.split(\"\\t\"))\\\n",
    "                       .toDF(col_name)\\\n",
    "\n",
    "    vcf_data = vcf_data.select(F.col(\"FORMAT\"))\n",
    "    return vcf_data"
   ]
  },
  {
   "cell_type": "code",
   "execution_count": 3,
   "metadata": {},
   "outputs": [],
   "source": [
    "hdfs = \"hdfs://master:9000/raw_data/gvcf_20.g.vcf\"\n",
    "gatk_vcf = preVCF(hdfs, spark).coalesce(100).cache()\n",
    "gatk_vcf.count()"
   ]
  },
  {
   "cell_type": "code",
   "execution_count": 6,
   "metadata": {},
   "outputs": [
    {
     "data": {
      "text/html": [
       "<div>\n",
       "<style scoped>\n",
       "    .dataframe tbody tr th:only-of-type {\n",
       "        vertical-align: middle;\n",
       "    }\n",
       "\n",
       "    .dataframe tbody tr th {\n",
       "        vertical-align: top;\n",
       "    }\n",
       "\n",
       "    .dataframe thead th {\n",
       "        text-align: right;\n",
       "    }\n",
       "</style>\n",
       "<table border=\"1\" class=\"dataframe\">\n",
       "  <thead>\n",
       "    <tr style=\"text-align: right;\">\n",
       "      <th></th>\n",
       "      <th>FORMAT</th>\n",
       "    </tr>\n",
       "  </thead>\n",
       "  <tbody>\n",
       "    <tr>\n",
       "      <th>0</th>\n",
       "      <td>GT:AD:DP:GQ:MIN_DP:PL:SB</td>\n",
       "    </tr>\n",
       "    <tr>\n",
       "      <th>1</th>\n",
       "      <td>GT:DP:GQ:MIN_DP:PL</td>\n",
       "    </tr>\n",
       "    <tr>\n",
       "      <th>2</th>\n",
       "      <td>GT:AD:DP:GQ:PL:SB</td>\n",
       "    </tr>\n",
       "    <tr>\n",
       "      <th>3</th>\n",
       "      <td>GT:AD:DP:GQ:PGT:PID:PL:SB</td>\n",
       "    </tr>\n",
       "    <tr>\n",
       "      <th>4</th>\n",
       "      <td>GT:DP:GQ:MIN_DP:PGT:PID:PL:SB</td>\n",
       "    </tr>\n",
       "    <tr>\n",
       "      <th>5</th>\n",
       "      <td>GT:DP:GQ:MIN_DP:PL:SB</td>\n",
       "    </tr>\n",
       "    <tr>\n",
       "      <th>6</th>\n",
       "      <td>GT:AD:DP:GQ:MIN_DP:PGT:PID:PL:SB</td>\n",
       "    </tr>\n",
       "  </tbody>\n",
       "</table>\n",
       "</div>"
      ],
      "text/plain": [
       "                             FORMAT\n",
       "0          GT:AD:DP:GQ:MIN_DP:PL:SB\n",
       "1                GT:DP:GQ:MIN_DP:PL\n",
       "2                 GT:AD:DP:GQ:PL:SB\n",
       "3         GT:AD:DP:GQ:PGT:PID:PL:SB\n",
       "4     GT:DP:GQ:MIN_DP:PGT:PID:PL:SB\n",
       "5             GT:DP:GQ:MIN_DP:PL:SB\n",
       "6  GT:AD:DP:GQ:MIN_DP:PGT:PID:PL:SB"
      ]
     },
     "execution_count": 6,
     "metadata": {},
     "output_type": "execute_result"
    }
   ],
   "source": [
    "gatk_vcf.dropDuplicates().toPandas()"
   ]
  },
  {
   "cell_type": "markdown",
   "metadata": {},
   "source": [
    "* GT 제외 알파벳 순 sort"
   ]
  }
 ],
 "metadata": {
  "kernelspec": {
   "display_name": "Python 3",
   "language": "python",
   "name": "python3"
  },
  "language_info": {
   "codemirror_mode": {
    "name": "ipython",
    "version": 3
   },
   "file_extension": ".py",
   "mimetype": "text/x-python",
   "name": "python",
   "nbconvert_exporter": "python",
   "pygments_lexer": "ipython3",
   "version": "3.7.6"
  }
 },
 "nbformat": 4,
 "nbformat_minor": 2
}
