{
 "cells": [
  {
   "cell_type": "code",
   "execution_count": 27,
   "metadata": {},
   "outputs": [],
   "source": [
    "import findspark\n",
    "findspark.init()\n",
    "\n",
    "# Spark & python function\n",
    "from pyspark.sql import SparkSession\n",
    "from pyspark.sql.types import IntegerType\n",
    "from pyspark.sql.functions import udf, col, desc, asc, coalesce, broadcast\n",
    "from pyspark import Row\n",
    "\n",
    "spark = SparkSession.builder.master(\"spark://master:7077\")\\\n",
    "                        .appName(\"gVCF_combine\")\\\n",
    "                        .config(\"spark.executor.memory\", \"18G\")\\\n",
    "                        .config(\"spark.executor.core\", \"3\")\\\n",
    "                        .config(\"spark.sql.shuffle.partitions\", 20)\\\n",
    "                        .config(\"spark.driver.maxResultSize\", \"10G\")\\\n",
    "                        .getOrCreate()\n",
    "\n",
    "# .config(\"spark.daemon.memory\", \"14G\")\\"
   ]
  },
  {
   "cell_type": "code",
   "execution_count": 26,
   "metadata": {},
   "outputs": [],
   "source": [
    "spark.catalog.clearCache()\n",
    "spark.stop()"
   ]
  },
  {
   "cell_type": "code",
   "execution_count": 4,
   "metadata": {},
   "outputs": [
    {
     "name": "stdout",
     "output_type": "stream",
     "text": [
      "Found 18 items\r\n",
      "-rw-r--r--   3 root supergroup 5063298294 2019-12-30 14:01 /gvcf/ND02798_eg.raw.vcf\r\n",
      "-rw-r--r--   3 root supergroup     199953 2019-12-30 14:01 /gvcf/ND02798_eg.raw.vcf.idx\r\n",
      "-rw-r--r--   3 root supergroup 1944354206 2019-12-30 14:01 /gvcf/ND02809_eg.raw.vcf\r\n",
      "-rw-r--r--   3 root supergroup     199945 2019-12-30 14:01 /gvcf/ND02809_eg.raw.vcf.idx\r\n",
      "-rw-r--r--   3 root supergroup  714187321 2019-12-30 14:01 /gvcf/ND03490_eg.raw.vcf\r\n",
      "-rw-r--r--   3 root supergroup     199945 2019-12-30 14:01 /gvcf/ND03490_eg.raw.vcf.idx\r\n",
      "-rw-r--r--   3 root supergroup 1220011634 2019-12-30 14:01 /gvcf/ND24897_eg.raw.vcf\r\n",
      "-rw-r--r--   3 root supergroup     199953 2019-12-30 14:01 /gvcf/ND24897_eg.raw.vcf.idx\r\n",
      "-rw-r--r--   3 root supergroup 1077473701 2019-12-30 14:01 /gvcf/ND25335_eg.raw.vcf\r\n",
      "-rw-r--r--   3 root supergroup     199929 2019-12-30 14:01 /gvcf/ND25335_eg.raw.vcf.idx\r\n",
      "-rw-r--r--   3 root supergroup 1326257190 2019-12-30 14:02 /gvcf/ND25407_eg.raw.vcf\r\n",
      "-rw-r--r--   3 root supergroup     199953 2019-12-30 14:02 /gvcf/ND25407_eg.raw.vcf.idx\r\n",
      "-rw-r--r--   3 root supergroup 1652938664 2019-12-30 14:03 /gvcf/ND25509_eg.raw.vcf\r\n",
      "-rw-r--r--   3 root supergroup     199945 2019-12-30 14:03 /gvcf/ND25509_eg.raw.vcf.idx\r\n",
      "-rw-r--r--   3 root supergroup 1150612426 2019-12-30 14:03 /gvcf/ND25659_eg.raw.vcf\r\n",
      "-rw-r--r--   3 root supergroup     199945 2019-12-30 14:03 /gvcf/ND25659_eg.raw.vcf.idx\r\n",
      "-rw-r--r--   3 root supergroup  902281519 2019-12-30 14:03 /gvcf/ND25675_eg.raw.vcf\r\n",
      "-rw-r--r--   3 root supergroup     199945 2019-12-30 14:03 /gvcf/ND25675_eg.raw.vcf.idx\r\n"
     ]
    }
   ],
   "source": [
    "!hdfs dfs -ls /gvcf"
   ]
  },
  {
   "cell_type": "code",
   "execution_count": 28,
   "metadata": {},
   "outputs": [],
   "source": [
    "import re\n",
    "### data1\n",
    "hdfs = \"hdfs://master:9000/gvcf/ND02798_eg.raw.vcf\"\n",
    "vcf_left = spark.sparkContext.textFile(hdfs)\n",
    "\n",
    "header_contig_left = vcf_left.filter(lambda x : re.match(\"^#\", x))\n",
    "col_name_left = vcf_left.filter(lambda x : x.startswith(\"#CHROM\")).first().split(\"\\t\")\n",
    "\n",
    "vcf_data_left = vcf_left.filter(lambda x : re.match(\"[^#][^#]\", x)).map(lambda x : x.split(\"\\t\")).toDF(col_name_left)\\\n",
    "                        .withColumn(\"POS\", col(\"POS\").cast(IntegerType()))"
   ]
  },
  {
   "cell_type": "code",
   "execution_count": 29,
   "metadata": {},
   "outputs": [
    {
     "name": "stdout",
     "output_type": "stream",
     "text": [
      "root\n",
      " |-- #CHROM: string (nullable = true)\n",
      " |-- POS: integer (nullable = true)\n",
      " |-- ID: string (nullable = true)\n",
      " |-- REF: string (nullable = true)\n",
      " |-- ALT: string (nullable = true)\n",
      " |-- QUAL: string (nullable = true)\n",
      " |-- FILTER: string (nullable = true)\n",
      " |-- INFO: string (nullable = true)\n",
      " |-- FORMAT: string (nullable = true)\n",
      " |-- ND02798: string (nullable = true)\n",
      "\n"
     ]
    }
   ],
   "source": [
    "vcf_data_left.printSchema()"
   ]
  },
  {
   "cell_type": "code",
   "execution_count": 30,
   "metadata": {},
   "outputs": [],
   "source": [
    "hdfs = \"hdfs://master:9000/gvcf/ND02809_eg.raw.vcf\"\n",
    "vcf_right = spark.sparkContext.textFile(hdfs)\n",
    "\n",
    "header_contig_right = vcf_right.filter(lambda x : re.match(\"^#\", x))\n",
    "col_name_right = vcf_right.filter(lambda x : x.startswith(\"#CHROM\")).first().split(\"\\t\")\n",
    "\n",
    "vcf_data_right = vcf_right.filter(lambda x : re.match(\"[^#][^#]\", x)).map(lambda x : x.split(\"\\t\")).toDF(col_name_right)\\\n",
    "                        .withColumn(\"POS\", col(\"POS\").cast(IntegerType()))"
   ]
  },
  {
   "cell_type": "code",
   "execution_count": 31,
   "metadata": {},
   "outputs": [
    {
     "name": "stdout",
     "output_type": "stream",
     "text": [
      "root\n",
      " |-- #CHROM: string (nullable = true)\n",
      " |-- POS: integer (nullable = true)\n",
      " |-- ID: string (nullable = true)\n",
      " |-- REF: string (nullable = true)\n",
      " |-- ALT: string (nullable = true)\n",
      " |-- QUAL: string (nullable = true)\n",
      " |-- FILTER: string (nullable = true)\n",
      " |-- INFO: string (nullable = true)\n",
      " |-- FORMAT: string (nullable = true)\n",
      " |-- ND02809: string (nullable = true)\n",
      "\n"
     ]
    }
   ],
   "source": [
    "vcf_data_right.printSchema()"
   ]
  },
  {
   "cell_type": "code",
   "execution_count": 32,
   "metadata": {},
   "outputs": [],
   "source": [
    "temp = vcf_data_left.join(vcf_data_right, [\"#CHROM\", \"POS\", \"REF\"], \"inner\").cache()"
   ]
  },
  {
   "cell_type": "code",
   "execution_count": 33,
   "metadata": {},
   "outputs": [
    {
     "name": "stdout",
     "output_type": "stream",
     "text": [
      "== Physical Plan ==\n",
      "InMemoryTableScan [#CHROM#1230, POS#1250, REF#1233, ID#1232, ALT#1234, QUAL#1235, FILTER#1236, INFO#1237, FORMAT#1238, ND02798#1239, ID#1263, ALT#1265, QUAL#1266, FILTER#1267, INFO#1268, FORMAT#1269, ND02809#1270]\n",
      "   +- InMemoryRelation [#CHROM#1230, POS#1250, REF#1233, ID#1232, ALT#1234, QUAL#1235, FILTER#1236, INFO#1237, FORMAT#1238, ND02798#1239, ID#1263, ALT#1265, QUAL#1266, FILTER#1267, INFO#1268, FORMAT#1269, ND02809#1270], StorageLevel(disk, memory, deserialized, 1 replicas)\n",
      "         +- *(5) Project [#CHROM#1230, POS#1250, REF#1233, ID#1232, ALT#1234, QUAL#1235, FILTER#1236, INFO#1237, FORMAT#1238, ND02798#1239, ID#1263, ALT#1265, QUAL#1266, FILTER#1267, INFO#1268, FORMAT#1269, ND02809#1270]\n",
      "            +- *(5) SortMergeJoin [#CHROM#1230, POS#1250, REF#1233], [#CHROM#1261, POS#1281, REF#1264], Inner\n",
      "               :- *(2) Sort [#CHROM#1230 ASC NULLS FIRST, POS#1250 ASC NULLS FIRST, REF#1233 ASC NULLS FIRST], false, 0\n",
      "               :  +- Exchange hashpartitioning(#CHROM#1230, POS#1250, REF#1233, 20)\n",
      "               :     +- *(1) Project [#CHROM#1230, cast(POS#1231 as int) AS POS#1250, ID#1232, REF#1233, ALT#1234, QUAL#1235, FILTER#1236, INFO#1237, FORMAT#1238, ND02798#1239]\n",
      "               :        +- *(1) Filter ((isnotnull(REF#1233) && isnotnull(#CHROM#1230)) && isnotnull(cast(POS#1231 as int)))\n",
      "               :           +- Scan ExistingRDD[#CHROM#1230,POS#1231,ID#1232,REF#1233,ALT#1234,QUAL#1235,FILTER#1236,INFO#1237,FORMAT#1238,ND02798#1239]\n",
      "               +- *(4) Sort [#CHROM#1261 ASC NULLS FIRST, POS#1281 ASC NULLS FIRST, REF#1264 ASC NULLS FIRST], false, 0\n",
      "                  +- Exchange hashpartitioning(#CHROM#1261, POS#1281, REF#1264, 20)\n",
      "                     +- *(3) Project [#CHROM#1261, cast(POS#1262 as int) AS POS#1281, ID#1263, REF#1264, ALT#1265, QUAL#1266, FILTER#1267, INFO#1268, FORMAT#1269, ND02809#1270]\n",
      "                        +- *(3) Filter ((isnotnull(cast(POS#1262 as int)) && isnotnull(REF#1264)) && isnotnull(#CHROM#1261))\n",
      "                           +- Scan ExistingRDD[#CHROM#1261,POS#1262,ID#1263,REF#1264,ALT#1265,QUAL#1266,FILTER#1267,INFO#1268,FORMAT#1269,ND02809#1270]\n"
     ]
    }
   ],
   "source": [
    "temp.explain()"
   ]
  },
  {
   "cell_type": "code",
   "execution_count": 34,
   "metadata": {},
   "outputs": [
    {
     "name": "stdout",
     "output_type": "stream",
     "text": [
      "root\n",
      " |-- #CHROM: string (nullable = true)\n",
      " |-- POS: integer (nullable = true)\n",
      " |-- REF: string (nullable = true)\n",
      " |-- ID: string (nullable = true)\n",
      " |-- ALT: string (nullable = true)\n",
      " |-- QUAL: string (nullable = true)\n",
      " |-- FILTER: string (nullable = true)\n",
      " |-- INFO: string (nullable = true)\n",
      " |-- FORMAT: string (nullable = true)\n",
      " |-- ND02798: string (nullable = true)\n",
      " |-- ID: string (nullable = true)\n",
      " |-- ALT: string (nullable = true)\n",
      " |-- QUAL: string (nullable = true)\n",
      " |-- FILTER: string (nullable = true)\n",
      " |-- INFO: string (nullable = true)\n",
      " |-- FORMAT: string (nullable = true)\n",
      " |-- ND02809: string (nullable = true)\n",
      "\n"
     ]
    }
   ],
   "source": [
    "temp.printSchema()"
   ]
  },
  {
   "cell_type": "code",
   "execution_count": null,
   "metadata": {
    "scrolled": true
   },
   "outputs": [],
   "source": [
    "temp.count()"
   ]
  },
  {
   "cell_type": "code",
   "execution_count": 25,
   "metadata": {},
   "outputs": [
    {
     "name": "stdout",
     "output_type": "stream",
     "text": [
      "+------+-------+---+----------+-----------+-------+------+--------------------+------------------+--------------------+----------+-----------+-------+------+--------------------+------------------+--------------------+\n",
      "|#CHROM|    POS|REF|        ID|        ALT|   QUAL|FILTER|                INFO|            FORMAT|             ND02798|        ID|        ALT|   QUAL|FILTER|                INFO|            FORMAT|             ND02809|\n",
      "+------+-------+---+----------+-----------+-------+------+--------------------+------------------+--------------------+----------+-----------+-------+------+--------------------+------------------+--------------------+\n",
      "|  chr1|  14930|  A|rs75454623|G,<NON_REF>| 509.77|     .|BaseQRankSum=-2.3...| GT:AD:DP:GQ:PL:SB|0/1:25,25,0:50:99...|rs75454623|G,<NON_REF>| 183.77|     .|BaseQRankSum=-3.2...| GT:AD:DP:GQ:PL:SB|0/1:69,18,0:87:99...|\n",
      "|  chr1|  15211|  T|rs78601809|G,<NON_REF>|  23.55|     .|DB;DP=2;MLEAC=2,0...| GT:AD:DP:GQ:PL:SB|1/1:0,2,0:2:6:55,...|         .|  <NON_REF>|      .|     .|           END=15211|GT:DP:GQ:MIN_DP:PL|    0/0:5:0:5:0,0,84|\n",
      "|  chr1| 754234|  C|         .|  <NON_REF>|      .|     .|          END=754271|GT:DP:GQ:MIN_DP:PL|    0/0:2:3:1:0,3,25|         .|  <NON_REF>|      .|     .|          END=754267|GT:DP:GQ:MIN_DP:PL|     0/0:1:3:1:0,0,0|\n",
      "|  chr1| 756604|  A| rs3131962|G,<NON_REF>| 165.84|     .|DB;DP=7;MLEAC=2,0...| GT:AD:DP:GQ:PL:SB|1/1:0,7,0:7:21:19...|         .|  <NON_REF>|      .|     .|          END=756604|GT:DP:GQ:MIN_DP:PL|     0/0:2:0:2:0,0,0|\n",
      "|  chr1| 770421|  C|         .|  <NON_REF>|      .|     .|          END=770467|GT:DP:GQ:MIN_DP:PL|0/0:18:45:8:0,21,315|         .|  <NON_REF>|      .|     .|          END=770421|GT:DP:GQ:MIN_DP:PL| 0/0:9:18:9:0,18,270|\n",
      "|  chr1| 778569|  A| rs2977615|G,<NON_REF>|  32.53|     .|DB;DP=2;MLEAC=2,0...| GT:AD:DP:GQ:PL:SB|1/1:0,2,0:2:6:64,...| rs2977615|G,<NON_REF>| 128.03|     .|DB;DP=5;MLEAC=2,0...| GT:AD:DP:GQ:PL:SB|1/1:0,5,0:5:15:16...|\n",
      "|  chr1| 790806|  T|         .|  <NON_REF>|      .|     .|          END=790817|GT:DP:GQ:MIN_DP:PL|0/0:11:24:8:0,21,267|         .|  <NON_REF>|      .|     .|          END=790806|GT:DP:GQ:MIN_DP:PL|   0/0:6:0:6:0,0,159|\n",
      "|  chr1| 793806|  T|         .|  <NON_REF>|      .|     .|          END=793843|GT:DP:GQ:MIN_DP:PL|   0/0:6:15:3:0,6,90|         .|  <NON_REF>|      .|     .|          END=793829|GT:DP:GQ:MIN_DP:PL|    0/0:2:6:2:0,6,55|\n",
      "|  chr1| 800489|  G|         .|  <NON_REF>|      .|     .|          END=800498|GT:DP:GQ:MIN_DP:PL|    0/0:2:6:2:0,6,68|         .|  <NON_REF>|      .|     .|          END=800496|GT:DP:GQ:MIN_DP:PL|    0/0:2:6:2:0,6,64|\n",
      "|  chr1| 801743|  T|         .|  <NON_REF>|      .|     .|          END=801750|GT:DP:GQ:MIN_DP:PL|0/0:17:42:14:0,36...|         .|  <NON_REF>|      .|     .|          END=801942|GT:DP:GQ:MIN_DP:PL|0/0:243:99:22:0,6...|\n",
      "|  chr1| 808928|  C|rs11240780|T,<NON_REF>| 769.77|     .|DB;DP=19;MLEAC=2,...| GT:AD:DP:GQ:PL:SB|1/1:0,18,0:18:54:...|rs11240780|T,<NON_REF>| 482.77|     .|BaseQRankSum=0.17...| GT:AD:DP:GQ:PL:SB|0/1:19,19,0:38:99...|\n",
      "|  chr1| 812355|  T|         .|  <NON_REF>|      .|     .|          END=812392|GT:DP:GQ:MIN_DP:PL|     0/0:1:3:0:0,0,0|         .|  <NON_REF>|      .|     .|          END=812363|GT:DP:GQ:MIN_DP:PL|    0/0:2:6:2:0,6,72|\n",
      "|  chr1| 813289|  A|         .|  <NON_REF>|      .|     .|          END=813290|GT:DP:GQ:MIN_DP:PL| 0/0:8:21:8:0,21,315|         .|  <NON_REF>|      .|     .|          END=813290|GT:DP:GQ:MIN_DP:PL| 0/0:5:12:5:0,12,180|\n",
      "|  chr1| 821961|  C|         .|  <NON_REF>|      .|     .|          END=821999|GT:DP:GQ:MIN_DP:PL|     0/0:1:0:0:0,0,0|         .|  <NON_REF>|      .|     .|          END=821995|GT:DP:GQ:MIN_DP:PL|    0/0:2:6:2:0,6,65|\n",
      "|  chr1| 822000|  C|         .|  <NON_REF>|      .|     .|          END=822009|GT:DP:GQ:MIN_DP:PL|    0/0:2:6:2:0,6,73|         .|  <NON_REF>|      .|     .|          END=822000|GT:DP:GQ:MIN_DP:PL|   0/0:4:0:4:0,0,100|\n",
      "|  chr1| 843618|  A|         .|  <NON_REF>|      .|     .|          END=843628|GT:DP:GQ:MIN_DP:PL|0/0:10:18:9:0,12,225|         .|  <NON_REF>|      .|     .|          END=843622|GT:DP:GQ:MIN_DP:PL|    0/0:2:3:2:0,3,45|\n",
      "|  chr1| 849998|  A|rs13303222|G,<NON_REF>| 195.77|     .|BaseQRankSum=-1.0...| GT:AD:DP:GQ:PL:SB|0/1:2,9,0:11:31:2...|rs13303222|G,<NON_REF>| 125.28|     .|DB;DP=4;MLEAC=2,0...| GT:AD:DP:GQ:PL:SB|1/1:0,4,0:4:12:15...|\n",
      "|  chr1| 851606|  C|         .|  <NON_REF>|      .|     .|          END=851606|GT:DP:GQ:MIN_DP:PL|    0/0:5:0:5:0,0,83|         .|  <NON_REF>|      .|     .|          END=851620|GT:DP:GQ:MIN_DP:PL|    0/0:2:3:1:0,3,30|\n",
      "|  chr1| 864741|  A|         .|  <NON_REF>|      .|     .|          END=864754|GT:DP:GQ:MIN_DP:PL| 0/0:8:15:7:0,12,180|         .|  <NON_REF>|      .|     .|          END=864754|GT:DP:GQ:MIN_DP:PL|    0/0:2:6:2:0,6,70|\n",
      "|  chr1| 865895|  C|         .|  <NON_REF>|      .|     .|          END=865906|GT:DP:GQ:MIN_DP:PL| 0/0:8:21:7:0,21,205|         .|  <NON_REF>|      .|     .|          END=866291|GT:DP:GQ:MIN_DP:PL|     0/0:0:0:0:0,0,0|\n",
      "|  chr1| 879258|  G|         .|  <NON_REF>|      .|     .|          END=879258|GT:DP:GQ:MIN_DP:PL|   0/0:6:0:6:0,0,160|         .|  <NON_REF>|      .|     .|          END=879275|GT:DP:GQ:MIN_DP:PL|    0/0:5:9:4:0,6,90|\n",
      "|  chr1| 880050|  T|         .|  <NON_REF>|      .|     .|          END=880075|GT:DP:GQ:MIN_DP:PL|0/0:12:36:8:0,21,276|         .|  <NON_REF>|      .|     .|          END=880066|GT:DP:GQ:MIN_DP:PL|0/0:18:51:13:0,33...|\n",
      "|  chr1| 886819|  A|         .|  <NON_REF>|      .|     .|          END=886846|GT:DP:GQ:MIN_DP:PL|    0/0:4:6:2:0,6,49|         .|  <NON_REF>|      .|     .|          END=886871|GT:DP:GQ:MIN_DP:PL|    0/0:4:9:2:0,6,72|\n",
      "|  chr1| 888659|  T| rs3748597|C,<NON_REF>| 152.77|     .|BaseQRankSum=3.34...| GT:AD:DP:GQ:PL:SB|0/1:30,8,0:38:99:...| rs3748597|C,<NON_REF>|2241.77|     .|DB;DP=63;MLEAC=2,...| GT:AD:DP:GQ:PL:SB|1/1:0,62,0:62:99:...|\n",
      "|  chr1| 894573|  G|         .|  <NON_REF>|      .|     .|          END=894573|GT:DP:GQ:MIN_DP:PL| 0/0:14:0:14:0,0,251|rs13303010|A,<NON_REF>| 384.77|     .|DB;DP=12;MLEAC=2,...| GT:AD:DP:GQ:PL:SB|1/1:0,12,0:12:36:...|\n",
      "|  chr1| 894574|  G|         .|  <NON_REF>|      .|     .|          END=894580|GT:DP:GQ:MIN_DP:PL|0/0:14:21:11:0,21...|         .|  <NON_REF>|      .|     .|          END=894576|GT:DP:GQ:MIN_DP:PL|0/0:12:30:12:0,30...|\n",
      "|  chr1| 899904|  T|         .|  <NON_REF>|      .|     .|          END=899919|GT:DP:GQ:MIN_DP:PL|    0/0:8:9:6:0,6,90|         .|  <NON_REF>|      .|     .|          END=899910|GT:DP:GQ:MIN_DP:PL|0/0:15:39:15:0,30...|\n",
      "|  chr1| 900310|  T|         .|  <NON_REF>|      .|     .|          END=900310|GT:DP:GQ:MIN_DP:PL|0/0:21:60:21:0,60...|         .|  <NON_REF>|      .|     .|          END=900332|GT:DP:GQ:MIN_DP:PL|0/0:10:27:7:0,21,210|\n",
      "|  chr1| 908586|  T|         .|  <NON_REF>|      .|     .|          END=908588|GT:DP:GQ:MIN_DP:PL|0/0:12:18:12:0,18...|         .|  <NON_REF>|      .|     .|          END=908602|GT:DP:GQ:MIN_DP:PL|0/0:13:30:11:0,21...|\n",
      "|  chr1| 908789|  C|         .|  <NON_REF>|      .|     .|          END=908790|GT:DP:GQ:MIN_DP:PL| 0/0:9:15:8:0,15,225|         .|  <NON_REF>|      .|     .|          END=908789|GT:DP:GQ:MIN_DP:PL|   0/0:8:0:8:0,0,208|\n",
      "|  chr1| 948692|  G| rs2341365|A,<NON_REF>| 158.90|     .|DB;DP=6;MLEAC=2,0...| GT:AD:DP:GQ:PL:SB|1/1:0,6,0:6:18:19...| rs2341365|A,<NON_REF>|  90.28|     .|DB;DP=4;MLEAC=2,0...| GT:AD:DP:GQ:PL:SB|1/1:0,4,0:4:12:12...|\n",
      "|  chr1| 957899|  G|         .|  <NON_REF>|      .|     .|          END=957930|GT:DP:GQ:MIN_DP:PL| 0/0:7:15:6:0,12,180|         .|  <NON_REF>|      .|     .|          END=957909|GT:DP:GQ:MIN_DP:PL|   0/0:9:15:5:0,6,90|\n",
      "|  chr1| 957946|  G|         .|  <NON_REF>|      .|     .|          END=957946|GT:DP:GQ:MIN_DP:PL|0/0:11:18:11:0,18...|         .|  <NON_REF>|      .|     .|          END=957946|GT:DP:GQ:MIN_DP:PL|    0/0:3:6:3:0,6,90|\n",
      "|  chr1| 957968|  T|         .|  <NON_REF>|      .|     .|          END=957970|GT:DP:GQ:MIN_DP:PL|0/0:10:18:10:0,15...|         .|  <NON_REF>|      .|     .|          END=957970|GT:DP:GQ:MIN_DP:PL| 0/0:5:12:5:0,12,180|\n",
      "|  chr1| 965175|  A|         .|  <NON_REF>|      .|     .|          END=965175|GT:DP:GQ:MIN_DP:PL|   0/0:11:0:11:0,0,0|         .|  <NON_REF>|      .|     .|          END=965175|GT:DP:GQ:MIN_DP:PL|     0/0:3:0:3:0,0,0|\n",
      "|  chr1| 965940|  G|         .|  <NON_REF>|      .|     .|          END=965948|GT:DP:GQ:MIN_DP:PL|0/0:24:42:21:0,33...|         .|  <NON_REF>|      .|     .|          END=965958|GT:DP:GQ:MIN_DP:PL| 0/0:6:15:5:0,15,191|\n",
      "|  chr1| 974225|  A| rs2488995|G,<NON_REF>|  54.74|     .|DB;DP=3;MLEAC=2,0...| GT:AD:DP:GQ:PL:SB|1/1:0,3,0:3:9:87,...| rs2488995|G,<NON_REF>| 147.90|     .|DB;DP=6;MLEAC=2,0...| GT:AD:DP:GQ:PL:SB|1/1:0,6,0:6:18:18...|\n",
      "|  chr1| 974226|  T|         .|  <NON_REF>|      .|     .|          END=974239|GT:DP:GQ:MIN_DP:PL|  0/0:6:17:4:0,9,135|         .|  <NON_REF>|      .|     .|          END=974240|GT:DP:GQ:MIN_DP:PL|   0/0:6:12:4:0,6,90|\n",
      "|  chr1| 980918|  C|         .|  <NON_REF>|      .|     .|          END=980950|GT:DP:GQ:MIN_DP:PL|0/0:19:36:13:0,24...|         .|  <NON_REF>|      .|     .|          END=980926|GT:DP:GQ:MIN_DP:PL|0/0:15:36:14:0,30...|\n",
      "|  chr1| 984641|  G|         .|  <NON_REF>|      .|     .|          END=984643|GT:DP:GQ:MIN_DP:PL| 0/0:7:18:7:0,18,270|         .|  <NON_REF>|      .|     .|          END=984692|GT:DP:GQ:MIN_DP:PL|     0/0:1:3:0:0,0,0|\n",
      "|  chr1| 989923|  T|         .|  <NON_REF>|      .|     .|          END=989950|GT:DP:GQ:MIN_DP:PL|0/0:18:30:10:0,21...|         .|  <NON_REF>|      .|     .|          END=989923|GT:DP:GQ:MIN_DP:PL|0/0:42:57:42:0,57...|\n",
      "|  chr1| 990774|  A|         .|  <NON_REF>|      .|     .|          END=990805|GT:DP:GQ:MIN_DP:PL|0/0:18:48:11:0,30...|         .|  <NON_REF>|      .|     .|          END=990803|GT:DP:GQ:MIN_DP:PL|0/0:11:27:9:0,21,286|\n",
      "|  chr1| 992094|  T|         .|  <NON_REF>|      .|     .|          END=992094|GT:DP:GQ:MIN_DP:PL|     0/0:8:0:8:0,0,0|         .|  <NON_REF>|      .|     .|          END=992094|GT:DP:GQ:MIN_DP:PL|     0/0:5:0:5:0,0,0|\n",
      "|  chr1|1021415|  A| rs3737728|G,<NON_REF>| 197.84|     .|DB;DP=7;MLEAC=2,0...| GT:AD:DP:GQ:PL:SB|1/1:0,7,0:7:21:23...| rs3737728|G,<NON_REF>|  66.77|     .|BaseQRankSum=0.98...| GT:AD:DP:GQ:PL:SB|0/1:3,3,0:6:81:96...|\n",
      "|  chr1|1037610|  C|         .|  <NON_REF>|      .|     .|         END=1037624|GT:DP:GQ:MIN_DP:PL| 0/0:8:21:8:0,21,315|         .|  <NON_REF>|      .|     .|         END=1037685|GT:DP:GQ:MIN_DP:PL|     0/0:1:3:0:0,0,0|\n",
      "|  chr1|1078375|  G|         .|  <NON_REF>|      .|     .|         END=1078396|GT:DP:GQ:MIN_DP:PL|    0/0:5:9:4:0,6,90|         .|  <NON_REF>|      .|     .|         END=1078376|GT:DP:GQ:MIN_DP:PL|    0/0:2:3:2:0,3,45|\n",
      "|  chr1|1088684|  C|         .|  <NON_REF>|      .|     .|         END=1088687|GT:DP:GQ:MIN_DP:PL|    0/0:3:9:3:0,6,85|         .|  <NON_REF>|      .|     .|         END=1088703|GT:DP:GQ:MIN_DP:PL|    0/0:3:6:2:0,6,72|\n",
      "|  chr1|1114774|  G|         .|  <NON_REF>|      .|     .|         END=1114836|GT:DP:GQ:MIN_DP:PL|    0/0:6:9:2:0,6,75|         .|  <NON_REF>|      .|     .|         END=1114790|GT:DP:GQ:MIN_DP:PL| 0/0:7:15:5:0,12,180|\n",
      "|  chr1|1149300|  A|         .|  <NON_REF>|      .|     .|         END=1149300|GT:DP:GQ:MIN_DP:PL|    0/0:5:0:5:0,0,98|         .|  <NON_REF>|      .|     .|         END=1149317|GT:DP:GQ:MIN_DP:PL|    0/0:2:6:2:0,6,58|\n",
      "|  chr1|1235895|  C|         .|  <NON_REF>|      .|     .|         END=1235955|GT:DP:GQ:MIN_DP:PL|0/0:38:87:22:0,60...|         .|  <NON_REF>|      .|     .|         END=1235899|GT:DP:GQ:MIN_DP:PL|0/0:18:54:16:0,48...|\n",
      "|  chr1|1238439|  T|         .|  <NON_REF>|      .|     .|         END=1238439|GT:DP:GQ:MIN_DP:PL|0/0:10:21:10:0,21...|         .|  <NON_REF>|      .|     .|         END=1238451|GT:DP:GQ:MIN_DP:PL|    0/0:9:9:5:0,6,90|\n",
      "|  chr1|1239270|  G|         .|  <NON_REF>|      .|     .|         END=1239270|GT:DP:GQ:MIN_DP:PL|   0/0:7:0:7:0,0,171|         .|  <NON_REF>|      .|     .|         END=1239277|GT:DP:GQ:MIN_DP:PL|   0/0:5:12:4:0,6,90|\n",
      "|  chr1|1254842|  C|         .|  <NON_REF>|      .|     .|         END=1254903|GT:DP:GQ:MIN_DP:PL|0/0:31:69:25:0,60...|         .|  <NON_REF>|      .|     .|         END=1254909|GT:DP:GQ:MIN_DP:PL|0/0:57:99:29:0,60...|\n",
      "|  chr1|1263473|  G|         .|  <NON_REF>|      .|     .|         END=1263473|GT:DP:GQ:MIN_DP:PL|0/0:18:17:18:0,17...|         .|  <NON_REF>|      .|     .|         END=1263473|GT:DP:GQ:MIN_DP:PL|0/0:26:42:26:0,42...|\n",
      "|  chr1|1263990|  T|         .|  <NON_REF>|      .|     .|         END=1264041|GT:DP:GQ:MIN_DP:PL|     0/0:1:3:1:0,0,0|         .|  <NON_REF>|      .|     .|         END=1264119|GT:DP:GQ:MIN_DP:PL|     0/0:0:0:0:0,0,0|\n",
      "|  chr1|1264539|  G|  rs307354|C,<NON_REF>| 387.77|     .|DB;DP=11;MLEAC=2,...| GT:AD:DP:GQ:PL:SB|1/1:0,11,0:11:33:...|  rs307354|C,<NON_REF>| 621.77|     .|DB;DP=17;MLEAC=2,...| GT:AD:DP:GQ:PL:SB|1/1:0,17,0:17:51:...|\n",
      "|  chr1|1265154|  T|  rs307355|C,<NON_REF>|1667.77|     .|DB;DP=53;MLEAC=2,...| GT:AD:DP:GQ:PL:SB|1/1:0,52,0:52:99:...|  rs307355|C,<NON_REF>| 807.77|     .|DB;DP=26;MLEAC=2,...| GT:AD:DP:GQ:PL:SB|1/1:0,26,0:26:77:...|\n",
      "|  chr1|1265439|  T|         .|  <NON_REF>|      .|     .|         END=1265459|GT:DP:GQ:MIN_DP:PL|0/0:23:51:18:0,42...|         .|  <NON_REF>|      .|     .|         END=1265459|GT:DP:GQ:MIN_DP:PL|   0/0:3:9:3:0,9,104|\n",
      "|  chr1|1268847|  T|  rs307378|G,<NON_REF>| 120.28|     .|DB;DP=4;MLEAC=2,0...| GT:AD:DP:GQ:PL:SB|1/1:0,4,0:4:12:15...|  rs307378|G,<NON_REF>| 270.80|     .|DB;DP=8;MLEAC=2,0...| GT:AD:DP:GQ:PL:SB|1/1:0,8,0:8:24:30...|\n",
      "|  chr1|1280014|  A|  rs307359|G,<NON_REF>| 121.03|     .|DB;DP=5;MLEAC=2,0...| GT:AD:DP:GQ:PL:SB|1/1:0,5,0:5:15:15...|  rs307359|G,<NON_REF>|  30.54|     .|DB;DP=2;MLEAC=2,0...| GT:AD:DP:GQ:PL:SB|1/1:0,2,0:2:6:62,...|\n",
      "|  chr1|1280377|  C|         .|  <NON_REF>|      .|     .|         END=1280377|GT:DP:GQ:MIN_DP:PL|0/0:30:63:30:0,63...|         .|  <NON_REF>|      .|     .|         END=1280380|GT:DP:GQ:MIN_DP:PL|0/0:10:15:9:0,15,225|\n",
      "|  chr1|1287041|  G|         .|  <NON_REF>|      .|     .|         END=1287062|GT:DP:GQ:MIN_DP:PL|   0/0:4:12:3:0,6,90|         .|  <NON_REF>|      .|     .|         END=1287098|GT:DP:GQ:MIN_DP:PL|   0/0:5:12:3:0,6,90|\n",
      "|  chr1|1292143|  C|         .|  <NON_REF>|      .|     .|         END=1292169|GT:DP:GQ:MIN_DP:PL|     0/0:1:3:0:0,0,0|         .|  <NON_REF>|      .|     .|         END=1292153|GT:DP:GQ:MIN_DP:PL| 0/0:9:15:7:0,15,225|\n",
      "|  chr1|1296576|  A|         .|  <NON_REF>|      .|     .|         END=1296577|GT:DP:GQ:MIN_DP:PL|0/0:10:18:10:0,18...|         .|  <NON_REF>|      .|     .|         END=1296615|GT:DP:GQ:MIN_DP:PL|   0/0:6:15:4:0,6,90|\n",
      "|  chr1|1297422|  C| rs2765021|T,<NON_REF>|  79.28|     .|DB;DP=4;MLEAC=2,0...| GT:AD:DP:GQ:PL:SB|1/1:0,4,0:4:12:11...| rs2765021|T,<NON_REF>|  70.74|     .|DB;DP=3;MLEAC=2,0...| GT:AD:DP:GQ:PL:SB|1/1:0,3,0:3:9:103...|\n",
      "|  chr1|1302515|  T|         .|  <NON_REF>|      .|     .|         END=1302515|GT:DP:GQ:MIN_DP:PL| 0/0:15:0:15:0,0,348|         .|  <NON_REF>|      .|     .|         END=1302523|GT:DP:GQ:MIN_DP:PL| 0/0:9:21:9:0,21,315|\n",
      "|  chr1|1311716|  G| rs2649589|A,<NON_REF>|  53.74|     .|DB;DP=3;MLEAC=2,0...| GT:AD:DP:GQ:PL:SB|1/1:0,3,0:3:9:86,...| rs2649589|A,<NON_REF>|  90.28|     .|DB;DP=4;MLEAC=2,0...| GT:AD:DP:GQ:PL:SB|1/1:0,4,0:4:12:12...|\n",
      "|  chr1|1311717|  T|         .|  <NON_REF>|      .|     .|         END=1311736|GT:DP:GQ:MIN_DP:PL|    0/0:3:6:2:0,6,49|         .|  <NON_REF>|      .|     .|         END=1311728|GT:DP:GQ:MIN_DP:PL|    0/0:2:6:2:0,6,68|\n",
      "|  chr1|1327929|  A|         .|  <NON_REF>|      .|     .|         END=1327948|GT:DP:GQ:MIN_DP:PL|    0/0:3:9:2:0,6,70|         .|  <NON_REF>|      .|     .|         END=1327939|GT:DP:GQ:MIN_DP:PL|    0/0:2:3:1:0,3,37|\n",
      "|  chr1|1356208|  G|         .|  <NON_REF>|      .|     .|         END=1356208|GT:DP:GQ:MIN_DP:PL|0/0:28:53:28:0,53...|         .|  <NON_REF>|      .|     .|         END=1356209|GT:DP:GQ:MIN_DP:PL|0/0:11:18:11:0,18...|\n",
      "|  chr1|1362473|  G|         .|  <NON_REF>|      .|     .|         END=1362510|GT:DP:GQ:MIN_DP:PL|     0/0:1:3:1:0,0,0|         .|  <NON_REF>|      .|     .|         END=1362501|GT:DP:GQ:MIN_DP:PL|     0/0:2:3:1:0,0,0|\n",
      "|  chr1|1373483|  G|         .|  <NON_REF>|      .|     .|         END=1373518|GT:DP:GQ:MIN_DP:PL|    0/0:4:9:3:0,6,90|         .|  <NON_REF>|      .|     .|         END=1373492|GT:DP:GQ:MIN_DP:PL|    0/0:3:6:2:0,6,65|\n",
      "|  chr1|1376261|  C|         .|  <NON_REF>|      .|     .|         END=1376272|GT:DP:GQ:MIN_DP:PL|0/0:10:21:9:0,21,315|         .|  <NON_REF>|      .|     .|         END=1376266|GT:DP:GQ:MIN_DP:PL|    0/0:3:3:3:0,3,45|\n",
      "|  chr1|1402185|  T|         .|  <NON_REF>|      .|     .|         END=1402187|GT:DP:GQ:MIN_DP:PL|    0/0:2:3:2:0,3,45|         .|  <NON_REF>|      .|     .|         END=1402262|GT:DP:GQ:MIN_DP:PL|    0/0:4:9:2:0,6,67|\n",
      "|  chr1|1412970|  G|         .|  <NON_REF>|      .|     .|         END=1412970|GT:DP:GQ:MIN_DP:PL|0/0:11:18:11:0,18...|         .|  <NON_REF>|      .|     .|         END=1413044|GT:DP:GQ:MIN_DP:PL|    0/0:3:6:2:0,6,65|\n",
      "|  chr1|1414932|  C|         .|  <NON_REF>|      .|     .|         END=1414932|GT:DP:GQ:MIN_DP:PL| 0/0:14:6:14:0,6,424|         .|  <NON_REF>|      .|     .|         END=1414939|GT:DP:GQ:MIN_DP:PL|0/0:11:18:10:0,15...|\n",
      "|  chr1|1422196|  C|         .|  <NON_REF>|      .|     .|         END=1422196|GT:DP:GQ:MIN_DP:PL|    0/0:4:3:4:0,3,45|         .|  <NON_REF>|      .|     .|         END=1422196|GT:DP:GQ:MIN_DP:PL|    0/0:4:0:4:0,0,90|\n",
      "|  chr1|1422539|  G|         .|  <NON_REF>|      .|     .|         END=1422543|GT:DP:GQ:MIN_DP:PL| 0/0:7:21:7:0,21,193|         .|  <NON_REF>|      .|     .|         END=1422540|GT:DP:GQ:MIN_DP:PL|    0/0:1:3:1:0,3,31|\n",
      "|  chr1|1464450|  A|         .|  <NON_REF>|      .|     .|         END=1464509|GT:DP:GQ:MIN_DP:PL| 0/0:6:15:4:0,12,144|         .|  <NON_REF>|      .|     .|         END=1464461|GT:DP:GQ:MIN_DP:PL|    0/0:3:8:2:0,6,70|\n",
      "|  chr1|1464510|  G|         .|  <NON_REF>|      .|     .|         END=1464549|GT:DP:GQ:MIN_DP:PL|0/0:14:39:8:0,21,294|         .|  <NON_REF>|      .|     .|         END=1464518|GT:DP:GQ:MIN_DP:PL|     0/0:3:3:2:0,0,0|\n",
      "|  chr1|1478174|  A|         .|  <NON_REF>|      .|     .|         END=1478179|GT:DP:GQ:MIN_DP:PL| 0/0:8:15:6:0,12,180|         .|  <NON_REF>|      .|     .|         END=1478174|GT:DP:GQ:MIN_DP:PL|    0/0:2:6:2:0,6,70|\n",
      "|  chr1|1478181|  T|         .|  <NON_REF>|      .|     .|         END=1478191|GT:DP:GQ:MIN_DP:PL|    0/0:5:6:3:0,6,90|         .|  <NON_REF>|      .|     .|         END=1478232|GT:DP:GQ:MIN_DP:PL|     0/0:1:0:0:0,0,0|\n",
      "|  chr1|1497562|  A|         .|  <NON_REF>|      .|     .|         END=1497604|GT:DP:GQ:MIN_DP:PL|0/0:12:27:8:0,21,313|         .|  <NON_REF>|      .|     .|         END=1497562|GT:DP:GQ:MIN_DP:PL|   0/0:9:0:9:0,0,192|\n",
      "|  chr1|1509900|  G|         .|  <NON_REF>|      .|     .|         END=1509922|GT:DP:GQ:MIN_DP:PL|    0/0:5:6:2:0,6,68|         .|  <NON_REF>|      .|     .|         END=1509900|GT:DP:GQ:MIN_DP:PL|0/0:16:15:16:0,15...|\n",
      "|  chr1|1537432|  G|         .|  <NON_REF>|      .|     .|         END=1537436|GT:DP:GQ:MIN_DP:PL|    0/0:4:6:3:0,6,90|         .|  <NON_REF>|      .|     .|         END=1537433|GT:DP:GQ:MIN_DP:PL|    0/0:3:3:3:0,3,45|\n",
      "|  chr1|1540896|  T|         .|  <NON_REF>|      .|     .|         END=1540896|GT:DP:GQ:MIN_DP:PL|   0/0:9:0:9:0,0,212|         .|  <NON_REF>|      .|     .|         END=1540896|GT:DP:GQ:MIN_DP:PL|    0/0:5:0:5:0,0,84|\n",
      "|  chr1|1543011|  G|         .|  <NON_REF>|      .|     .|         END=1543048|GT:DP:GQ:MIN_DP:PL|    0/0:4:9:2:0,6,49|         .|  <NON_REF>|      .|     .|         END=1543094|GT:DP:GQ:MIN_DP:PL|    0/0:3:9:2:0,6,59|\n",
      "|  chr1|1545289|  G|         .|  <NON_REF>|      .|     .|         END=1545289|GT:DP:GQ:MIN_DP:PL|    0/0:3:0:3:0,0,21|         .|  <NON_REF>|      .|     .|         END=1545289|GT:DP:GQ:MIN_DP:PL|    0/0:4:0:4:0,0,66|\n",
      "|  chr1|1549814|  C|         .|  <NON_REF>|      .|     .|         END=1549814|GT:DP:GQ:MIN_DP:PL|0/0:12:18:12:0,18...|         .|  <NON_REF>|      .|     .|         END=1549814|GT:DP:GQ:MIN_DP:PL|    0/0:4:3:4:0,3,45|\n",
      "|  chr1|1555813|  T|         .|  <NON_REF>|      .|     .|         END=1555860|GT:DP:GQ:MIN_DP:PL|   0/0:6:15:3:0,6,90|         .|  <NON_REF>|      .|     .|         END=1555816|GT:DP:GQ:MIN_DP:PL|    0/0:2:3:2:0,3,45|\n",
      "|  chr1|1566552|  A|         .|  <NON_REF>|      .|     .|         END=1566552|GT:DP:GQ:MIN_DP:PL|     0/0:0:0:0:0,0,0|         .|  <NON_REF>|      .|     .|         END=1566768|GT:DP:GQ:MIN_DP:PL|     0/0:0:0:0:0,0,0|\n",
      "|  chr1|1581168|  C|         .|  <NON_REF>|      .|     .|         END=1581171|GT:DP:GQ:MIN_DP:PL|0/0:43:18:36:0,18...|         .|  <NON_REF>|      .|     .|         END=1581174|GT:DP:GQ:MIN_DP:PL|0/0:73:30:64:0,30...|\n",
      "|  chr1|1597463|  G|         .|  <NON_REF>|      .|     .|         END=1597463|GT:DP:GQ:MIN_DP:PL|0/0:33:57:33:0,57...|         .|  <NON_REF>|      .|     .|         END=1597495|GT:DP:GQ:MIN_DP:PL|0/0:21:33:11:0,24...|\n",
      "|  chr1|1614826|  G|         .|  <NON_REF>|      .|     .|         END=1614826|GT:DP:GQ:MIN_DP:PL|   0/0:4:9:4:0,9,135|         .|  <NON_REF>|      .|     .|         END=1614834|GT:DP:GQ:MIN_DP:PL|    0/0:2:6:2:0,6,76|\n",
      "|  chr1|1628335|  T|         .|  <NON_REF>|      .|     .|         END=1628339|GT:DP:GQ:MIN_DP:PL|0/0:21:42:17:0,31...|         .|  <NON_REF>|      .|     .|         END=1628336|GT:DP:GQ:MIN_DP:PL|0/0:15:36:15:0,36...|\n",
      "|  chr1|1635560|  T|         .|  <NON_REF>|      .|     .|         END=1635617|GT:DP:GQ:MIN_DP:PL|0/0:21:48:17:0,32...|         .|  <NON_REF>|      .|     .|         END=1635597|GT:DP:GQ:MIN_DP:PL|0/0:29:72:20:0,60...|\n",
      "|  chr1|1636269|  C|         .|  <NON_REF>|      .|     .|         END=1636273|GT:DP:GQ:MIN_DP:PL|0/0:23:63:23:0,63...|         .|  <NON_REF>|      .|     .|         END=1636547|GT:DP:GQ:MIN_DP:PL|0/0:193:99:24:0,6...|\n",
      "|  chr1|1645367|  G|         .|  <NON_REF>|      .|     .|         END=1645430|GT:DP:GQ:MIN_DP:PL|0/0:54:99:27:0,60...|         .|  <NON_REF>|      .|     .|         END=1645371|GT:DP:GQ:MIN_DP:PL|0/0:13:21:12:0,21...|\n",
      "|  chr1|1649482|  T|         .|  <NON_REF>|      .|     .|         END=1649482|GT:DP:GQ:MIN_DP:PL| 0/0:8:15:8:0,15,225|         .|  <NON_REF>|      .|     .|         END=1649482|GT:DP:GQ:MIN_DP:PL| 0/0:6:18:6:0,18,219|\n",
      "|  chr1|1650619|  C|rs74763557|A,<NON_REF>|      0|     .|BaseQRankSum=-1.8...| GT:AD:DP:GQ:PL:SB|0/0:11,2,0:13:4:0...|         .|  <NON_REF>|      .|     .|         END=1650619|GT:DP:GQ:MIN_DP:PL|0/0:16:13:16:0,13...|\n",
      "+------+-------+---+----------+-----------+-------+------+--------------------+------------------+--------------------+----------+-----------+-------+------+--------------------+------------------+--------------------+\n",
      "only showing top 100 rows\n",
      "\n"
     ]
    }
   ],
   "source": [
    "temp.show(100)"
   ]
  },
  {
   "cell_type": "code",
   "execution_count": null,
   "metadata": {},
   "outputs": [],
   "source": []
  },
  {
   "cell_type": "code",
   "execution_count": null,
   "metadata": {},
   "outputs": [],
   "source": []
  },
  {
   "cell_type": "code",
   "execution_count": null,
   "metadata": {},
   "outputs": [],
   "source": []
  },
  {
   "cell_type": "code",
   "execution_count": null,
   "metadata": {},
   "outputs": [],
   "source": []
  },
  {
   "cell_type": "code",
   "execution_count": 105,
   "metadata": {
    "scrolled": false
   },
   "outputs": [
    {
     "data": {
      "text/plain": [
       "51135"
      ]
     },
     "execution_count": 105,
     "metadata": {},
     "output_type": "execute_result"
    }
   ],
   "source": [
    "### indel 개수\n",
    "temp.rdd.filter(lambda row : len(row.REF) >= 2).count()"
   ]
  },
  {
   "cell_type": "code",
   "execution_count": 83,
   "metadata": {},
   "outputs": [
    {
     "data": {
      "text/plain": [
       "59996355"
      ]
     },
     "execution_count": 83,
     "metadata": {},
     "output_type": "execute_result"
    }
   ],
   "source": [
    "vcf_data.toDF(col_name).count()"
   ]
  },
  {
   "cell_type": "code",
   "execution_count": 81,
   "metadata": {},
   "outputs": [
    {
     "data": {
      "text/plain": [
       "5018020"
      ]
     },
     "execution_count": 81,
     "metadata": {},
     "output_type": "execute_result"
    }
   ],
   "source": [
    "vcf_data.toDF(col_name).filter(col(\"#CHROM\") == \"chr1\").count()"
   ]
  },
  {
   "cell_type": "code",
   "execution_count": 82,
   "metadata": {},
   "outputs": [
    {
     "data": {
      "text/plain": [
       "4918094"
      ]
     },
     "execution_count": 82,
     "metadata": {},
     "output_type": "execute_result"
    }
   ],
   "source": [
    "vcf_data.toDF(col_name).filter(col(\"#CHROM\") == \"chr2\").count()"
   ]
  },
  {
   "cell_type": "code",
   "execution_count": 84,
   "metadata": {},
   "outputs": [
    {
     "data": {
      "text/plain": [
       "3866509"
      ]
     },
     "execution_count": 84,
     "metadata": {},
     "output_type": "execute_result"
    }
   ],
   "source": [
    "vcf_data.toDF(col_name).filter(col(\"#CHROM\") == \"chr3\").count()"
   ]
  },
  {
   "cell_type": "code",
   "execution_count": 85,
   "metadata": {},
   "outputs": [
    {
     "data": {
      "text/plain": [
       "3329637"
      ]
     },
     "execution_count": 85,
     "metadata": {},
     "output_type": "execute_result"
    }
   ],
   "source": [
    "vcf_data.toDF(col_name).filter(col(\"#CHROM\") == \"chr4\").count()"
   ]
  },
  {
   "cell_type": "code",
   "execution_count": 86,
   "metadata": {},
   "outputs": [
    {
     "data": {
      "text/plain": [
       "3438877"
      ]
     },
     "execution_count": 86,
     "metadata": {},
     "output_type": "execute_result"
    }
   ],
   "source": [
    "vcf_data.toDF(col_name).filter(col(\"#CHROM\") == \"chr5\").count()"
   ]
  },
  {
   "cell_type": "code",
   "execution_count": 87,
   "metadata": {},
   "outputs": [
    {
     "data": {
      "text/plain": [
       "3348499"
      ]
     },
     "execution_count": 87,
     "metadata": {},
     "output_type": "execute_result"
    }
   ],
   "source": [
    "vcf_data.toDF(col_name).filter(col(\"#CHROM\") == \"chr6\").count()"
   ]
  },
  {
   "cell_type": "code",
   "execution_count": null,
   "metadata": {},
   "outputs": [],
   "source": [
    "def preVCF(hdfs, flag, spark): # hdfs://, flag 0 == lhs, 1 == rhs\n",
    "    vcf = spark.sparkContext.textFile(hdfs).map(lambda x : x.split(\"\\t\"))\n",
    "    header = vcf.first()\n",
    "    step1 = vcf.filter(lambda row : row != header).map(alt_filter).toDF(header)\n",
    "    return_vcf = step1.select(chr_remove_udf(step1[\"#CHROM\"]).cast(\"Integer\").alias(\"CHROM\"), \"*\")\\\n",
    "                      .drop(col(\"#CHROM\")).filter(col(\"FILTER\") == \"PASS\")\n",
    "    if flag == 1:\n",
    "        for index in range(len(return_vcf.columns[:9])):\n",
    "            return_vcf = return_vcf.withColumnRenamed(return_vcf.columns[index], return_vcf.columns[index] + \"_temp\") \n",
    "    return return_vcf.coalesce(20)"
   ]
  },
  {
   "cell_type": "code",
   "execution_count": null,
   "metadata": {},
   "outputs": [],
   "source": []
  },
  {
   "cell_type": "code",
   "execution_count": null,
   "metadata": {},
   "outputs": [],
   "source": []
  }
 ],
 "metadata": {
  "kernelspec": {
   "display_name": "Python 3",
   "language": "python",
   "name": "python3"
  },
  "language_info": {
   "codemirror_mode": {
    "name": "ipython",
    "version": 3
   },
   "file_extension": ".py",
   "mimetype": "text/x-python",
   "name": "python",
   "nbconvert_exporter": "python",
   "pygments_lexer": "ipython3",
   "version": "3.7.6"
  }
 },
 "nbformat": 4,
 "nbformat_minor": 2
}
