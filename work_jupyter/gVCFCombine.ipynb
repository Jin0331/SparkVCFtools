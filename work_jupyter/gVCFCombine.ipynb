{
 "cells": [
  {
   "cell_type": "code",
   "execution_count": 110,
   "metadata": {},
   "outputs": [],
   "source": [
    "import findspark\n",
    "findspark.init()\n",
    "\n",
    "# Spark & python function\n",
    "from pyspark.sql import SparkSession\n",
    "from pyspark.sql.types import IntegerType, StringType\n",
    "from pyspark.sql.functions import * as F\n",
    "from pyspark import Row\n",
    "import re\n",
    "import psycopg2\n",
    "\n",
    "spark = SparkSession.builder.master(\"spark://master:7077\")\\\n",
    "                        .appName(\"gVCF_combine\")\\\n",
    "                        .config(\"spark.executor.memory\", \"18G\")\\\n",
    "                        .config(\"spark.executor.core\", \"3\")\\\n",
    "                        .config(\"spark.sql.shuffle.partitions\", 20)\\\n",
    "                        .config(\"spark.driver.memory\", \"13G\")\\\n",
    "                        .config(\"spark.driver.maxResultSize\", \"10G\")\\\n",
    "                        .config(\"spark.driver.extraClassPath\", \"/root/postgresql-9.4.1207.jar\")\\\n",
    "                        .config(\"spark.executor.extraClassPath\", \"/root/postgresql-9.4.1207.jar\")\\\n",
    "                        .config(\"spark.jars\", \"/root/postgresql-9.4.1207.jar\")\\\n",
    "                        .getOrCreate()\n",
    "\n",
    "#.config(\"spark.daemon.memory\", \"14G\")\\\n",
    "#.config(\"spark.driver.port\", \"9797\")\\\n",
    "#.config(\"spark.blockManager.port\", \"9898\")\\\n",
    "#.config(\"spark.driver.blockManager.port\", \"9898\")\\\n",
    "\n",
    "# redis\n",
    "#.config(\"spark.redis.host\", \"210.115.229.97\")\\\n",
    "#.config(\"spark.redis.port\", \"6379\")\\\n",
    "#.config(\"spark.jars\", \"/spark-redis/target/spark-redis-2.4.1-SNAPSHOT-jar-with-dependencies.jar\")\\\n",
    "\n",
    "# postgresql\n",
    "#.config(\"spark.driver.extraClassPath\", \"/postgresql-9.4.1207.jar\")\\\n",
    "#.config(\"spark.executor.extraClassPath\", \"/postgresql-9.4.1207.jar\")\\\n",
    "#.config(\"spark.jars\", \"/postgresql-9.4.1207.jar\")\\\n",
    "#.config(\"spark.repl.local.jars\", \"/postgresql-9.4.1207.jar\")\\"
   ]
  },
  {
   "cell_type": "code",
   "execution_count": 109,
   "metadata": {},
   "outputs": [],
   "source": [
    "spark.catalog.clearCache()\n",
    "spark.stop()"
   ]
  },
  {
   "cell_type": "code",
   "execution_count": null,
   "metadata": {},
   "outputs": [],
   "source": [
    "!hdfs dfs -ls /vcf/gvcf"
   ]
  },
  {
   "cell_type": "code",
   "execution_count": 39,
   "metadata": {},
   "outputs": [],
   "source": [
    "def preVCF(hdfs, flag, spark):\n",
    "    vcf = spark.sparkContext.textFile(hdfs)\n",
    "\n",
    "    header_contig = vcf.filter(lambda x : re.match(\"^#\", x))\n",
    "    col_name = vcf.filter(lambda x : x.startswith(\"#CHROM\")).first().split(\"\\t\")\n",
    "    vcf_data = vcf.filter(lambda x : re.match(\"[^#][^#]\", x))\\\n",
    "                       .map(lambda x : x.split(\"\\t\"))\\\n",
    "                       .toDF(col_name)\\\n",
    "                       .withColumn(\"POS\", col(\"POS\").cast(IntegerType()))\n",
    "\n",
    "\n",
    "    ## lookup table\n",
    "    lookup = vcf_data.filter(substring(col(\"INFO\"), 0, 3).isin(\"END\"))\\\n",
    "                .select(col(\"#CHROM\").alias(\"chr\"), col(\"POS\").alias(\"start\"),\n",
    "                        regexp_replace(col(\"INFO\"), \"END=\", \"\").cast(IntegerType()).alias(\"end\"), vcf_data[9])\\\n",
    "                .coalesce(10).cache()\n",
    "    \n",
    "    #.withColumn(\"INDEX\", concat(col(\"CHR\"), lit(\"_\"), col(\"START\")))\\\n",
    "\n",
    "    # flag에 따라 column 명 변경\n",
    "    if flag == 1:\n",
    "        for index in range(len(vcf_data.columns[:9])):\n",
    "            compared_arr = [\"#CHROM\", \"POS\", \"REF\"]\n",
    "            if vcf_data.columns[index] in compared_arr:\n",
    "                continue\n",
    "            vcf_data = vcf_data.withColumnRenamed(vcf_data.columns[index], vcf_data.columns[index] + \"_temp\") \n",
    "    \n",
    "    return (vcf_data, lookup)"
   ]
  },
  {
   "cell_type": "code",
   "execution_count": 111,
   "metadata": {
    "scrolled": true
   },
   "outputs": [],
   "source": [
    "# main\n",
    "left, lookup_left = preVCF(\"hdfs://master:9000/raw_data/gvcf/ND02798_eg.raw.vcf\", 0, spark)\n",
    "right, lookup_right = preVCF(\"hdfs://master:9000/raw_data/gvcf/ND02809_eg.raw.vcf\", 1, spark)\n",
    "\n",
    "#lookup_left.count()\n",
    "#lookup_right.count()\n",
    "\n",
    "# redis\n",
    "# lookup_left.write.format(\"org.apache.spark.sql.redis\").option(\"table\", \"left\").option(\"key.column\", \"INDEX\").save()\n",
    "# lookup_right.write.format(\"org.apache.spark.sql.redis\").option(\"table\", \"right\").option(\"key.column\", \"INDEX\").save()\n",
    "# import redis\n",
    "#conn = redis.StrictRedis(host='210.115.229.97', port=6379,db=0)\n",
    "# conn.hgetall(\"left:chrM_4636\")[b\"CHR\"]\n",
    "\n",
    "#spark.sparkContext.parallelize(range(10)).map(lambda x : spark.sql(\"SELECT * FROM lookup_left WHERE END <= {0}\".format(x)))"
   ]
  },
  {
   "cell_type": "code",
   "execution_count": 41,
   "metadata": {},
   "outputs": [],
   "source": [
    "lookup_left.write.format(\"jdbc\")\\\n",
    "           .option(\"url\", \"jdbc:postgresql://210.115.229.97:5432/testdb\")\\\n",
    "           .option(\"dbtable\", \"lookup.left\")\\\n",
    "           .option(\"user\", \"postgres\")\\\n",
    "           .option(\"password\", \"sempre813!\")\\\n",
    "           .option(\"batchsize\", \"100000\")\\\n",
    "           .save()"
   ]
  },
  {
   "cell_type": "code",
   "execution_count": 87,
   "metadata": {},
   "outputs": [],
   "source": [
    "# global variable, lookup_left, lookup_right\n",
    "def selectCol(row):\n",
    "    if(row.INFO == None):\n",
    "        vcf_column = (row[\"#CHROM\"], row[\"POS\"], row.ID_temp, row[\"REF\"],row.ALT_temp, row.QUAL_temp, row.FILTER_temp)\n",
    "        chr_, pos = row[\"#CHROM\"], row[\"POS\"]\n",
    "        \n",
    "        ### 0 ---> CHR, 1 ---> START, 2 ---> END, 3: ---> SAMPLE\n",
    "        value = getValue(\"lookup.left\", chr_, pos)[0]\n",
    "        end_right = int(row.INFO_temp.replace(\"END=\", \"\"))\n",
    "        \n",
    "        if(value[2] > end_right): re_pos = end_right\n",
    "        elif(value[2] < end_right): re_pos = value[2]\n",
    "        else: re_pos =  end_right\n",
    "        \n",
    "        vcf_column = vcf_column + (\"END=\" + str(re_pos), row.FORMAT_temp) + value[3:] + row[16:]\n",
    "        return vcf_column\n",
    "    \n",
    "    elif(row.INFO_temp == None):\n",
    "        vcf_column = (row[\"#CHROM\"], row[\"POS\"], row.ID, row[\"REF\"],row.ALT, row.QUAL, row.FILTER)\n",
    "        chr_, pos = row[\"#CHROM\"], row[\"POS\"]\n",
    "        \n",
    "        value = getValue(\"lookup.right\", chr_, pos)[0]\n",
    "        end_right = int(row.INFO.replace(\"END=\", \"\"))\n",
    "        \n",
    "        if(value[2] > end_right): re_pos = end_right\n",
    "        elif(value[2] < end_right): re_pos = value[2]\n",
    "        else: re_pos =  end_right\n",
    "        \n",
    "        vcf_column = vcf_column + (\"END=\" + str(re_pos), row.FORMAT) + (row[9],) + value[3:] \n",
    "        return vcf_column"
   ]
  },
  {
   "cell_type": "code",
   "execution_count": 113,
   "metadata": {},
   "outputs": [
    {
     "data": {
      "text/plain": [
       "81337377"
      ]
     },
     "execution_count": 113,
     "metadata": {},
     "output_type": "execute_result"
    }
   ],
   "source": [
    "join_vcf = left.join(right, [\"#CHROM\", \"POS\", \"REF\"], \"full\").orderBy(col(\"#CHROM\"), col(\"POS\")).cache()\n",
    "join_vcf.count()"
   ]
  },
  {
   "cell_type": "code",
   "execution_count": 115,
   "metadata": {
    "scrolled": true
   },
   "outputs": [
    {
     "name": "stdout",
     "output_type": "stream",
     "text": [
      "+------+-----+---+----+---------+----+------+---------+------------------+--------------------+-------+---------+---------+-----------+---------+------------------+--------------------+\n",
      "|#CHROM|  POS|REF|  ID|      ALT|QUAL|FILTER|     INFO|            FORMAT|             ND02798|ID_temp| ALT_temp|QUAL_temp|FILTER_temp|INFO_temp|       FORMAT_temp|             ND02809|\n",
      "+------+-----+---+----+---------+----+------+---------+------------------+--------------------+-------+---------+---------+-----------+---------+------------------+--------------------+\n",
      "|  chr1|    1|  N|   .|<NON_REF>|   .|     .|END=10081|GT:DP:GQ:MIN_DP:PL|     0/0:0:0:0:0,0,0|      .|<NON_REF>|        .|          .|END=10098|GT:DP:GQ:MIN_DP:PL|     0/0:0:0:0:0,0,0|\n",
      "|  chr1|10082|  C|   .|<NON_REF>|   .|     .|END=10108|GT:DP:GQ:MIN_DP:PL|    0/0:2:5:2:0,6,49|   null|     null|     null|       null|     null|              null|                null|\n",
      "|  chr1|10099|  A|null|     null|null|  null|     null|              null|                null|      .|<NON_REF>|        .|          .|END=10106|GT:DP:GQ:MIN_DP:PL|    0/0:2:5:2:0,6,49|\n",
      "|  chr1|10107|  C|null|     null|null|  null|     null|              null|                null|      .|<NON_REF>|        .|          .|END=12927|GT:DP:GQ:MIN_DP:PL|     0/0:0:0:0:0,0,0|\n",
      "|  chr1|10109|  A|   .|<NON_REF>|   .|     .|END=10158|GT:DP:GQ:MIN_DP:PL|     0/0:1:0:0:0,0,0|   null|     null|     null|       null|     null|              null|                null|\n",
      "|  chr1|10159|  A|   .|<NON_REF>|   .|     .|END=10177|GT:DP:GQ:MIN_DP:PL|   0/0:4:11:2:0,6,49|   null|     null|     null|       null|     null|              null|                null|\n",
      "|  chr1|10178|  C|   .|<NON_REF>|   .|     .|END=10384|GT:DP:GQ:MIN_DP:PL|     0/0:1:0:0:0,0,0|   null|     null|     null|       null|     null|              null|                null|\n",
      "|  chr1|10385|  C|   .|<NON_REF>|   .|     .|END=10397|GT:DP:GQ:MIN_DP:PL|   0/0:4:12:2:0,6,74|   null|     null|     null|       null|     null|              null|                null|\n",
      "|  chr1|10398|  C|   .|<NON_REF>|   .|     .|END=10461|GT:DP:GQ:MIN_DP:PL|     0/0:2:0:0:0,0,0|   null|     null|     null|       null|     null|              null|                null|\n",
      "|  chr1|10462|  T|   .|<NON_REF>|   .|     .|END=10500|GT:DP:GQ:MIN_DP:PL|    0/0:4:9:2:0,6,60|   null|     null|     null|       null|     null|              null|                null|\n",
      "|  chr1|10501|  T|   .|<NON_REF>|   .|     .|END=10501|GT:DP:GQ:MIN_DP:PL|   0/0:6:0:6:0,0,117|   null|     null|     null|       null|     null|              null|                null|\n",
      "|  chr1|10502|  C|   .|<NON_REF>|   .|     .|END=10510|GT:DP:GQ:MIN_DP:PL| 0/0:6:15:6:0,12,180|   null|     null|     null|       null|     null|              null|                null|\n",
      "|  chr1|10511|  G|   .|<NON_REF>|   .|     .|END=10514|GT:DP:GQ:MIN_DP:PL| 0/0:7:21:7:0,21,227|   null|     null|     null|       null|     null|              null|                null|\n",
      "|  chr1|10515|  A|   .|<NON_REF>|   .|     .|END=10515|GT:DP:GQ:MIN_DP:PL| 0/0:6:18:6:0,18,213|   null|     null|     null|       null|     null|              null|                null|\n",
      "|  chr1|10516|  A|   .|<NON_REF>|   .|     .|END=10559|GT:DP:GQ:MIN_DP:PL|0/0:15:36:8:0,21,315|   null|     null|     null|       null|     null|              null|                null|\n",
      "|  chr1|10560|  C|   .|<NON_REF>|   .|     .|END=10560|GT:DP:GQ:MIN_DP:PL| 0/0:13:0:13:0,0,333|   null|     null|     null|       null|     null|              null|                null|\n",
      "|  chr1|10561|  A|   .|<NON_REF>|   .|     .|END=10569|GT:DP:GQ:MIN_DP:PL|0/0:12:24:11:0,22...|   null|     null|     null|       null|     null|              null|                null|\n",
      "|  chr1|10570|  C|   .|<NON_REF>|   .|     .|END=10582|GT:DP:GQ:MIN_DP:PL| 0/0:10:15:6:0,5,180|   null|     null|     null|       null|     null|              null|                null|\n",
      "|  chr1|10583|  G|   .|<NON_REF>|   .|     .|END=10583|GT:DP:GQ:MIN_DP:PL|    0/0:6:0:6:0,0,99|   null|     null|     null|       null|     null|              null|                null|\n",
      "|  chr1|10584|  C|   .|<NON_REF>|   .|     .|END=10606|GT:DP:GQ:MIN_DP:PL|    0/0:3:6:2:0,6,71|   null|     null|     null|       null|     null|              null|                null|\n",
      "|  chr1|10607|  A|   .|<NON_REF>|   .|     .|END=12977|GT:DP:GQ:MIN_DP:PL|     0/0:0:0:0:0,0,0|   null|     null|     null|       null|     null|              null|                null|\n",
      "|  chr1|12928|  G|null|     null|null|  null|     null|              null|                null|      .|<NON_REF>|        .|          .|END=12967|GT:DP:GQ:MIN_DP:PL|    0/0:3:9:2:0,6,68|\n",
      "|  chr1|12968|  C|null|     null|null|  null|     null|              null|                null|      .|<NON_REF>|        .|          .|END=12977|GT:DP:GQ:MIN_DP:PL|    0/0:3:3:2:0,3,45|\n",
      "|  chr1|12978|  A|   .|<NON_REF>|   .|     .|END=13028|GT:DP:GQ:MIN_DP:PL|    0/0:3:9:2:0,6,54|      .|<NON_REF>|        .|          .|END=13010|GT:DP:GQ:MIN_DP:PL|   0/0:5:12:2:0,6,72|\n",
      "|  chr1|13011|  T|null|     null|null|  null|     null|              null|                null|      .|<NON_REF>|        .|          .|END=13027|GT:DP:GQ:MIN_DP:PL| 0/0:8:21:7:0,21,231|\n",
      "|  chr1|13028|  A|null|     null|null|  null|     null|              null|                null|      .|<NON_REF>|        .|          .|END=13031|GT:DP:GQ:MIN_DP:PL| 0/0:8:18:7:0,18,270|\n",
      "|  chr1|13029|  T|   .|<NON_REF>|   .|     .|END=13058|GT:DP:GQ:MIN_DP:PL|0/0:15:39:9:0,24,335|   null|     null|     null|       null|     null|              null|                null|\n",
      "|  chr1|13032|  A|null|     null|null|  null|     null|              null|                null|      .|<NON_REF>|        .|          .|END=13047|GT:DP:GQ:MIN_DP:PL|0/0:12:30:9:0,21,315|\n",
      "|  chr1|13048|  C|null|     null|null|  null|     null|              null|                null|      .|<NON_REF>|        .|          .|END=13049|GT:DP:GQ:MIN_DP:PL|0/0:23:66:23:0,66...|\n",
      "|  chr1|13050|  T|null|     null|null|  null|     null|              null|                null|      .|<NON_REF>|        .|          .|END=13050|GT:DP:GQ:MIN_DP:PL|0/0:24:59:24:0,60...|\n",
      "|  chr1|13051|  A|null|     null|null|  null|     null|              null|                null|      .|<NON_REF>|        .|          .|END=13075|GT:DP:GQ:MIN_DP:PL|0/0:30:81:25:0,66...|\n",
      "|  chr1|13059|  C|   .|<NON_REF>|   .|     .|END=13061|GT:DP:GQ:MIN_DP:PL|0/0:22:60:21:0,60...|   null|     null|     null|       null|     null|              null|                null|\n",
      "|  chr1|13062|  G|   .|<NON_REF>|   .|     .|END=13065|GT:DP:GQ:MIN_DP:PL|0/0:23:57:22:0,54...|   null|     null|     null|       null|     null|              null|                null|\n",
      "|  chr1|13066|  C|   .|<NON_REF>|   .|     .|END=13066|GT:DP:GQ:MIN_DP:PL|0/0:22:60:22:0,60...|   null|     null|     null|       null|     null|              null|                null|\n",
      "|  chr1|13067|  C|   .|<NON_REF>|   .|     .|END=13091|GT:DP:GQ:MIN_DP:PL|0/0:19:39:13:0,27...|   null|     null|     null|       null|     null|              null|                null|\n",
      "|  chr1|13076|  G|null|     null|null|  null|     null|              null|                null|      .|<NON_REF>|        .|          .|END=13076|GT:DP:GQ:MIN_DP:PL|0/0:30:53:30:0,53...|\n",
      "|  chr1|13077|  G|null|     null|null|  null|     null|              null|                null|      .|<NON_REF>|        .|          .|END=13079|GT:DP:GQ:MIN_DP:PL|0/0:31:72:31:0,69...|\n",
      "|  chr1|13080|  G|null|     null|null|  null|     null|              null|                null|      .|<NON_REF>|        .|          .|END=13093|GT:DP:GQ:MIN_DP:PL|0/0:25:45:20:0,24...|\n",
      "|  chr1|13092|  C|   .|<NON_REF>|   .|     .|END=13092|GT:DP:GQ:MIN_DP:PL| 0/0:12:0:12:0,0,381|   null|     null|     null|       null|     null|              null|                null|\n",
      "|  chr1|13093|  T|   .|<NON_REF>|   .|     .|END=13093|GT:DP:GQ:MIN_DP:PL|0/0:11:21:11:0,21...|   null|     null|     null|       null|     null|              null|                null|\n",
      "|  chr1|13094|  G|   .|<NON_REF>|   .|     .|END=13109|GT:DP:GQ:MIN_DP:PL|  0/0:10:12:5:0,6,90|      .|<NON_REF>|        .|          .|END=13101|GT:DP:GQ:MIN_DP:PL|0/0:18:18:11:0,15...|\n",
      "|  chr1|13102|  G|null|     null|null|  null|     null|              null|                null|      .|<NON_REF>|        .|          .|END=13106|GT:DP:GQ:MIN_DP:PL|0/0:10:21:7:0,21,228|\n",
      "|  chr1|13107|  A|null|     null|null|  null|     null|              null|                null|      .|<NON_REF>|        .|          .|END=13121|GT:DP:GQ:MIN_DP:PL| 0/0:7:18:6:0,15,205|\n",
      "|  chr1|13110|  G|   .|<NON_REF>|   .|     .|END=13110|GT:DP:GQ:MIN_DP:PL|   0/0:5:0:5:0,0,108|   null|     null|     null|       null|     null|              null|                null|\n",
      "|  chr1|13111|  G|   .|<NON_REF>|   .|     .|END=13123|GT:DP:GQ:MIN_DP:PL|    0/0:3:6:2:0,6,75|   null|     null|     null|       null|     null|              null|                null|\n",
      "|  chr1|13122|  T|null|     null|null|  null|     null|              null|                null|      .|<NON_REF>|        .|          .|END=13176|GT:DP:GQ:MIN_DP:PL|0/0:12:27:8:0,21,315|\n",
      "|  chr1|13124|  C|   .|<NON_REF>|   .|     .|END=13124|GT:DP:GQ:MIN_DP:PL|    0/0:3:0:3:0,0,48|   null|     null|     null|       null|     null|              null|                null|\n",
      "|  chr1|13125|  C|   .|<NON_REF>|   .|     .|END=13143|GT:DP:GQ:MIN_DP:PL|    0/0:4:9:3:0,6,90|   null|     null|     null|       null|     null|              null|                null|\n",
      "|  chr1|13144|  A|   .|<NON_REF>|   .|     .|END=13198|GT:DP:GQ:MIN_DP:PL|     0/0:1:3:0:0,0,0|   null|     null|     null|       null|     null|              null|                null|\n",
      "|  chr1|13177|  G|null|     null|null|  null|     null|              null|                null|      .|<NON_REF>|        .|          .|END=13185|GT:DP:GQ:MIN_DP:PL| 0/0:8:18:7:0,18,270|\n",
      "+------+-----+---+----+---------+----+------+---------+------------------+--------------------+-------+---------+---------+-----------+---------+------------------+--------------------+\n",
      "only showing top 50 rows\n",
      "\n"
     ]
    }
   ],
   "source": [
    "join_vcf.show(50)"
   ]
  },
  {
   "cell_type": "code",
   "execution_count": 132,
   "metadata": {},
   "outputs": [],
   "source": [
    "from pyspark.sql.window import Window\n",
    "from pyspark.sql.functions import last\n",
    "\n",
    "lookup_window = Window.partitionBy(\"#CHROM\").orderBy(\"POS\").rangeBetween(Window.unboundedPreceding, 0)"
   ]
  },
  {
   "cell_type": "code",
   "execution_count": 136,
   "metadata": {},
   "outputs": [
    {
     "name": "stdout",
     "output_type": "stream",
     "text": [
      "+------+-----+---+----+---------+----+------+---------+------------------+-----------------+-------+---------+---------+-----------+---------+------------------+-----------------+\n",
      "|#CHROM|  POS|REF|  ID|      ALT|QUAL|FILTER|     INFO|            FORMAT|          ND02798|ID_temp| ALT_temp|QUAL_temp|FILTER_temp|INFO_temp|       FORMAT_temp|          ND02809|\n",
      "+------+-----+---+----+---------+----+------+---------+------------------+-----------------+-------+---------+---------+-----------+---------+------------------+-----------------+\n",
      "| chr12|    1|  N|   .|<NON_REF>|   .|     .|END=60131|GT:DP:GQ:MIN_DP:PL|  0/0:0:0:0:0,0,0|      .|<NON_REF>|        .|          .|END=60131|GT:DP:GQ:MIN_DP:PL|  0/0:0:0:0:0,0,0|\n",
      "| chr12|60112|  A|null|     null|null|  null|END=60131|              null|  0/0:0:0:0:0,0,0|      .|<NON_REF>|        .|          .|END=60131|GT:DP:GQ:MIN_DP:PL|  0/0:0:0:0:0,0,0|\n",
      "| chr12|60132|  G|   .|<NON_REF>|   .|     .|END=60137|GT:DP:GQ:MIN_DP:PL| 0/0:2:6:2:0,6,58|   null|     null|     null|       null|END=60137|              null| 0/0:2:6:2:0,6,58|\n",
      "| chr12|60138|  T|   .|<NON_REF>|   .|     .|END=60143|GT:DP:GQ:MIN_DP:PL| 0/0:2:3:2:0,3,45|   null|     null|     null|       null|END=60143|              null| 0/0:2:3:2:0,3,45|\n",
      "| chr12|60144|  C|   .|<NON_REF>|   .|     .|END=60204|GT:DP:GQ:MIN_DP:PL|0/0:4:12:2:0,6,73|   null|     null|     null|       null|END=60204|              null|0/0:4:12:2:0,6,73|\n",
      "| chr12|60193|  G|null|     null|null|  null|END=60204|              null|0/0:4:12:2:0,6,73|      .|<NON_REF>|        .|          .|END=60204|GT:DP:GQ:MIN_DP:PL|0/0:4:12:2:0,6,73|\n",
      "| chr12|60205|  T|   .|<NON_REF>|   .|     .|END=60276|GT:DP:GQ:MIN_DP:PL|  0/0:1:0:0:0,0,0|   null|     null|     null|       null|END=60276|              null|  0/0:1:0:0:0,0,0|\n",
      "| chr12|60207|  G|null|     null|null|  null|END=60276|              null|  0/0:1:0:0:0,0,0|      .|<NON_REF>|        .|          .|END=60276|GT:DP:GQ:MIN_DP:PL|  0/0:1:0:0:0,0,0|\n",
      "| chr12|60277|  G|   .|<NON_REF>|   .|     .|END=60289|GT:DP:GQ:MIN_DP:PL| 0/0:2:6:2:0,6,68|   null|     null|     null|       null|END=60289|              null| 0/0:2:6:2:0,6,68|\n",
      "| chr12|60290|  G|   .|<NON_REF>|   .|     .|END=60304|GT:DP:GQ:MIN_DP:PL| 0/0:2:3:1:0,3,35|   null|     null|     null|       null|END=60304|              null| 0/0:2:3:1:0,3,35|\n",
      "| chr12|60293|  A|null|     null|null|  null|END=60304|              null| 0/0:2:3:1:0,3,35|      .|<NON_REF>|        .|          .|END=60304|GT:DP:GQ:MIN_DP:PL| 0/0:2:3:1:0,3,35|\n",
      "| chr12|60305|  A|   .|<NON_REF>|   .|     .|END=60315|GT:DP:GQ:MIN_DP:PL| 0/0:2:6:2:0,6,54|   null|     null|     null|       null|END=60315|              null| 0/0:2:6:2:0,6,54|\n",
      "| chr12|60316|  A|   .|<NON_REF>|   .|     .|END=60519|GT:DP:GQ:MIN_DP:PL|  0/0:0:0:0:0,0,0|   null|     null|     null|       null|END=60519|              null|  0/0:0:0:0:0,0,0|\n",
      "| chr12|60520|  C|   .|<NON_REF>|   .|     .|END=60591|GT:DP:GQ:MIN_DP:PL| 0/0:4:9:2:0,6,73|   null|     null|     null|       null|END=60591|              null| 0/0:4:9:2:0,6,73|\n",
      "| chr12|60554|  A|null|     null|null|  null|END=60591|              null| 0/0:4:9:2:0,6,73|      .|<NON_REF>|        .|          .|END=60591|GT:DP:GQ:MIN_DP:PL| 0/0:4:9:2:0,6,73|\n",
      "| chr12|60592|  T|   .|<NON_REF>|   .|     .|END=60596|GT:DP:GQ:MIN_DP:PL| 0/0:4:3:3:0,3,45|   null|     null|     null|       null|END=60596|              null| 0/0:4:3:3:0,3,45|\n",
      "| chr12|60597|  T|   .|<NON_REF>|   .|     .|END=60601|GT:DP:GQ:MIN_DP:PL| 0/0:3:6:3:0,6,90|   null|     null|     null|       null|END=60601|              null| 0/0:3:6:3:0,6,90|\n",
      "| chr12|60602|  G|   .|<NON_REF>|   .|     .|END=60609|GT:DP:GQ:MIN_DP:PL| 0/0:2:3:2:0,3,45|   null|     null|     null|       null|END=60609|              null| 0/0:2:3:2:0,3,45|\n",
      "| chr12|60610|  T|   .|<NON_REF>|   .|     .|END=60647|GT:DP:GQ:MIN_DP:PL|0/0:5:15:2:0,6,74|   null|     null|     null|       null|END=60647|              null|0/0:5:15:2:0,6,74|\n",
      "| chr12|60618|  T|null|     null|null|  null|END=60647|              null|0/0:5:15:2:0,6,74|      .|<NON_REF>|        .|          .|END=60647|GT:DP:GQ:MIN_DP:PL|0/0:5:15:2:0,6,74|\n",
      "+------+-----+---+----+---------+----+------+---------+------------------+-----------------+-------+---------+---------+-----------+---------+------------------+-----------------+\n",
      "only showing top 20 rows\n",
      "\n"
     ]
    }
   ],
   "source": [
    "join_vcf\\\n",
    "        .withColumn(\"ND02798\", last(\"ND02798\", ignorenulls  = True).over(lookup_window))\\\n",
    "        .withColumn(\"INFO\", last(\"INFO\", ignorenulls  = True).over(lookup_window))\\\n",
    "        .withColumn(\"ND02809\", last(\"ND02798\", ignorenulls  = True).over(lookup_window))\\\n",
    "        .withColumn(\"INFO_temp\", last(\"INFO\", ignorenulls  = True).over(lookup_window))\\\n",
    "        .show()"
   ]
  },
  {
   "cell_type": "code",
   "execution_count": 141,
   "metadata": {},
   "outputs": [],
   "source": [
    "def getValue(chr_, pos):\n",
    "    value = lookup_left.where((col(\"CHR\") == chr_) & (col(\"START\") <= pos) & (col(\"END\") >= pos))\\\n",
    "                          .rdd.collect()[0]\n",
    "    return value"
   ]
  },
  {
   "cell_type": "code",
   "execution_count": 89,
   "metadata": {},
   "outputs": [],
   "source": [
    " def getValue(table_name, chr_, pos):\n",
    "    import psycopg2\n",
    "    with psycopg2.connect(database = \"testdb\", user = \"postgres\", password=\"sempre813!\", host = \"210.115.229.97\", port = \"5432\") as f:\n",
    "        cur = f.cursor()\n",
    "        cur.execute(\"\"\"SELECT * FROM {0} WHERE chr='{1}' AND start < {2} AND \"end\" > {2}\"\"\".format(table_name,chr_, pos))\n",
    "        rows = cur.fetchall()\n",
    "    return rows"
   ]
  }
 ],
 "metadata": {
  "kernelspec": {
   "display_name": "Python 3",
   "language": "python",
   "name": "python3"
  },
  "language_info": {
   "codemirror_mode": {
    "name": "ipython",
    "version": 3
   },
   "file_extension": ".py",
   "mimetype": "text/x-python",
   "name": "python",
   "nbconvert_exporter": "python",
   "pygments_lexer": "ipython3",
   "version": "3.7.6"
  }
 },
 "nbformat": 4,
 "nbformat_minor": 2
}
